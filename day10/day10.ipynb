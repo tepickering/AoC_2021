{
 "cells": [
  {
   "cell_type": "code",
   "execution_count": 70,
   "metadata": {},
   "outputs": [],
   "source": [
    "from math import floor"
   ]
  },
  {
   "cell_type": "code",
   "execution_count": 1,
   "metadata": {},
   "outputs": [],
   "source": [
    "def load_data(datafile):\n",
    "    lines = []\n",
    "    with open(datafile, 'r') as fp:\n",
    "        for l in fp.readlines():\n",
    "            lines.append(l.strip())\n",
    "    return lines"
   ]
  },
  {
   "cell_type": "code",
   "execution_count": 4,
   "metadata": {},
   "outputs": [],
   "source": [
    "data = load_data(\"test.txt\")"
   ]
  },
  {
   "cell_type": "code",
   "execution_count": 53,
   "metadata": {},
   "outputs": [],
   "source": [
    "part1_scores = {\n",
    "    ')': 3,\n",
    "    ']': 57,\n",
    "    '}': 1197,\n",
    "    '>': 25137\n",
    "}"
   ]
  },
  {
   "cell_type": "code",
   "execution_count": 5,
   "metadata": {},
   "outputs": [
    {
     "data": {
      "text/plain": [
       "{'(': ')', '[': ']', '{': '}', '<': '>'}"
      ]
     },
     "execution_count": 5,
     "metadata": {},
     "output_type": "execute_result"
    }
   ],
   "source": [
    "openings = ['(', '[', '{', '<']\n",
    "closings = [')', ']', '}', '>']\n",
    "mapping = dict(zip(openings, closings))\n",
    "mapping"
   ]
  },
  {
   "cell_type": "code",
   "execution_count": 54,
   "metadata": {},
   "outputs": [],
   "source": [
    "def parse_data(datafile):\n",
    "    data = load_data(datafile)\n",
    "    boops = 0 \n",
    "    for line in data:\n",
    "        stack = []\n",
    "        for c in line:\n",
    "            if c in openings:\n",
    "                stack.append(c)\n",
    "            else:\n",
    "                popped = stack.pop()\n",
    "                if mapping[popped] != c:\n",
    "                    #print(f\"boop: {c}, {mapping[popped]}\")\n",
    "                    boops += part1_scores[c]\n",
    "                    break\n",
    "    return boops"
   ]
  },
  {
   "cell_type": "code",
   "execution_count": 55,
   "metadata": {},
   "outputs": [
    {
     "data": {
      "text/plain": [
       "26397"
      ]
     },
     "execution_count": 55,
     "metadata": {},
     "output_type": "execute_result"
    }
   ],
   "source": [
    "parse_data(\"test.txt\")"
   ]
  },
  {
   "cell_type": "code",
   "execution_count": 42,
   "metadata": {},
   "outputs": [
    {
     "data": {
      "text/plain": [
       "411471"
      ]
     },
     "execution_count": 42,
     "metadata": {},
     "output_type": "execute_result"
    }
   ],
   "source": [
    "parse_data(\"input.txt\")"
   ]
  },
  {
   "cell_type": "code",
   "execution_count": 75,
   "metadata": {},
   "outputs": [],
   "source": [
    "part2_scores = {\n",
    "    ')': 1,\n",
    "    ']': 2,\n",
    "    '}': 3,\n",
    "    '>': 4\n",
    "}\n",
    "\n",
    "def parse_data_part2(datafile):\n",
    "    data = load_data(datafile)\n",
    "    boops = 0\n",
    "    scores = []\n",
    "    for line in data:\n",
    "        stack = []\n",
    "        good = True\n",
    "        for c in line:\n",
    "            if c in openings:\n",
    "                stack.append(c)\n",
    "            else:\n",
    "                popped = stack.pop()\n",
    "                if mapping[popped] != c:\n",
    "                    #print(f\"boop: {c}, {mapping[popped]}\")\n",
    "                    boops += part1_scores[c]\n",
    "                    good = False\n",
    "                    break\n",
    "        if good:\n",
    "            hangers = [mapping[c] for c in stack]\n",
    "            #print(hangers)\n",
    "            score = 0\n",
    "            while hangers:\n",
    "                score = 5 * score + part2_scores[hangers.pop()]\n",
    "            scores.append(score)\n",
    "    scores = sorted(scores)\n",
    "    hang_score = scores[floor(len(scores)/2)]\n",
    "    return boops, hang_score"
   ]
  },
  {
   "cell_type": "code",
   "execution_count": 77,
   "metadata": {},
   "outputs": [
    {
     "data": {
      "text/plain": [
       "(411471, 3122628974)"
      ]
     },
     "execution_count": 77,
     "metadata": {},
     "output_type": "execute_result"
    }
   ],
   "source": [
    "parse_data_part2(\"input.txt\")"
   ]
  },
  {
   "cell_type": "code",
   "execution_count": null,
   "metadata": {},
   "outputs": [],
   "source": []
  }
 ],
 "metadata": {
  "interpreter": {
   "hash": "ecc22ddafbb7680a410089353d25f05dc1cd64666e6afd042de696b9ecdc2135"
  },
  "kernelspec": {
   "display_name": "Python 3.9.7 64-bit ('py39': conda)",
   "language": "python",
   "name": "python3"
  },
  "language_info": {
   "codemirror_mode": {
    "name": "ipython",
    "version": 3
   },
   "file_extension": ".py",
   "mimetype": "text/x-python",
   "name": "python",
   "nbconvert_exporter": "python",
   "pygments_lexer": "ipython3",
   "version": "3.9.7"
  },
  "orig_nbformat": 4
 },
 "nbformat": 4,
 "nbformat_minor": 2
}
