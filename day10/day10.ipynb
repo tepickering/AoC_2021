{
 "cells": [
  {
   "cell_type": "code",
   "execution_count": 1,
   "metadata": {},
   "outputs": [],
   "source": [
    "def load_data(datafile):\n",
    "    lines = []\n",
    "    with open(datafile, 'r') as fp:\n",
    "        for l in fp.readlines():\n",
    "            lines.append(l.strip())\n",
    "    return lines"
   ]
  },
  {
   "cell_type": "code",
   "execution_count": 4,
   "metadata": {},
   "outputs": [],
   "source": [
    "data = load_data(\"test.txt\")"
   ]
  },
  {
   "cell_type": "code",
   "execution_count": 3,
   "metadata": {},
   "outputs": [],
   "source": [
    "scores = {\n",
    "    ')': 3,\n",
    "    ']': 57,\n",
    "    '}': 1197,\n",
    "    '>': 25137\n",
    "}"
   ]
  },
  {
   "cell_type": "code",
   "execution_count": 5,
   "metadata": {},
   "outputs": [
    {
     "data": {
      "text/plain": [
       "{'(': ')', '[': ']', '{': '}', '<': '>'}"
      ]
     },
     "execution_count": 5,
     "metadata": {},
     "output_type": "execute_result"
    }
   ],
   "source": [
    "openings = ['(', '[', '{', '<']\n",
    "closings = [')', ']', '}', '>']\n",
    "mapping = dict(zip(openings, closings))\n",
    "mapping"
   ]
  },
  {
   "cell_type": "code",
   "execution_count": 37,
   "metadata": {},
   "outputs": [],
   "source": [
    "def parse_data(datafile):\n",
    "    data = load_data(datafile)\n",
    "    boops = 0 \n",
    "    for line in data:\n",
    "        stack = []\n",
    "        for c in line:\n",
    "            if c in openings:\n",
    "                stack.append(c)\n",
    "            else:\n",
    "                popped = stack.pop()\n",
    "                if mapping[popped] != c:\n",
    "                    print(f\"boop: {c}, {mapping[popped]}\")\n",
    "                    boops += scores[c]\n",
    "                    break\n",
    "    return boops"
   ]
  },
  {
   "cell_type": "code",
   "execution_count": 38,
   "metadata": {},
   "outputs": [
    {
     "name": "stdout",
     "output_type": "stream",
     "text": [
      "boop: }, ]\n",
      "boop: ), ]\n",
      "boop: ], )\n",
      "boop: ), >\n",
      "boop: >, ]\n"
     ]
    },
    {
     "data": {
      "text/plain": [
       "26397"
      ]
     },
     "execution_count": 38,
     "metadata": {},
     "output_type": "execute_result"
    }
   ],
   "source": [
    "parse_data(\"test.txt\")"
   ]
  },
  {
   "cell_type": "code",
   "execution_count": 39,
   "metadata": {},
   "outputs": [
    {
     "name": "stdout",
     "output_type": "stream",
     "text": [
      "boop: >, }\n",
      "boop: ], )\n",
      "boop: ), ]\n",
      "boop: ), >\n",
      "boop: >, )\n",
      "boop: ), }\n",
      "boop: }, ]\n",
      "boop: ), }\n",
      "boop: ), }\n",
      "boop: }, ]\n",
      "boop: ), ]\n",
      "boop: ), >\n",
      "boop: ], >\n",
      "boop: >, ]\n",
      "boop: >, }\n",
      "boop: >, }\n",
      "boop: >, ]\n",
      "boop: ], >\n",
      "boop: ), }\n",
      "boop: >, )\n",
      "boop: ), ]\n",
      "boop: ], }\n",
      "boop: >, }\n",
      "boop: ], >\n",
      "boop: ), }\n",
      "boop: ), ]\n",
      "boop: ], }\n",
      "boop: ], }\n",
      "boop: ], )\n",
      "boop: >, }\n",
      "boop: >, }\n",
      "boop: }, >\n",
      "boop: ], >\n",
      "boop: >, }\n",
      "boop: >, ]\n",
      "boop: }, )\n",
      "boop: >, }\n",
      "boop: ], }\n",
      "boop: }, ]\n",
      "boop: ], )\n",
      "boop: ), >\n",
      "boop: ], }\n",
      "boop: }, ]\n",
      "boop: ], >\n",
      "boop: }, )\n",
      "boop: >, ]\n",
      "boop: ), >\n",
      "boop: ), >\n",
      "boop: ], }\n",
      "boop: ), }\n",
      "boop: >, }\n",
      "boop: ], )\n",
      "boop: >, }\n"
     ]
    },
    {
     "data": {
      "text/plain": [
       "411471"
      ]
     },
     "execution_count": 39,
     "metadata": {},
     "output_type": "execute_result"
    }
   ],
   "source": [
    "parse_data(\"input.txt\")"
   ]
  },
  {
   "cell_type": "code",
   "execution_count": null,
   "metadata": {},
   "outputs": [],
   "source": []
  }
 ],
 "metadata": {
  "interpreter": {
   "hash": "ecc22ddafbb7680a410089353d25f05dc1cd64666e6afd042de696b9ecdc2135"
  },
  "kernelspec": {
   "display_name": "Python 3.9.7 64-bit ('py39': conda)",
   "language": "python",
   "name": "python3"
  },
  "language_info": {
   "codemirror_mode": {
    "name": "ipython",
    "version": 3
   },
   "file_extension": ".py",
   "mimetype": "text/x-python",
   "name": "python",
   "nbconvert_exporter": "python",
   "pygments_lexer": "ipython3",
   "version": "3.9.7"
  },
  "orig_nbformat": 4
 },
 "nbformat": 4,
 "nbformat_minor": 2
}
