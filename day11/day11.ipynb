{
 "cells": [
  {
   "cell_type": "code",
   "execution_count": 24,
   "metadata": {},
   "outputs": [],
   "source": [
    "import numpy as np"
   ]
  },
  {
   "cell_type": "code",
   "execution_count": 9,
   "metadata": {},
   "outputs": [],
   "source": [
    "def load_data(datafile):\n",
    "    with open(datafile, 'r') as fp:\n",
    "        lines = []\n",
    "        for l in fp.readlines():\n",
    "            lines.append([int(c) for c in l.strip()])\n",
    "    return np.array(lines)"
   ]
  },
  {
   "cell_type": "code",
   "execution_count": 69,
   "metadata": {},
   "outputs": [
    {
     "data": {
      "text/plain": [
       "(array([[0, 0, 0, 0, 0, 0, 0, 0, 0, 0],\n",
       "        [0, 0, 0, 0, 0, 0, 0, 0, 0, 0],\n",
       "        [0, 0, 0, 0, 0, 0, 0, 0, 0, 0],\n",
       "        [0, 0, 0, 0, 0, 0, 0, 0, 0, 0],\n",
       "        [0, 0, 0, 0, 0, 0, 0, 0, 0, 0],\n",
       "        [0, 0, 0, 0, 0, 0, 0, 0, 0, 0],\n",
       "        [0, 0, 0, 0, 0, 0, 0, 0, 0, 0],\n",
       "        [0, 0, 0, 0, 0, 0, 0, 0, 0, 0],\n",
       "        [0, 0, 0, 0, 0, 0, 0, 0, 0, 0],\n",
       "        [0, 0, 0, 0, 0, 0, 0, 0, 0, 0]]),\n",
       " 4689,\n",
       " 290)"
      ]
     },
     "execution_count": 69,
     "metadata": {},
     "output_type": "execute_result"
    }
   ],
   "source": [
    "arr = load_data(\"input.txt\")\n",
    "counter = 0\n",
    "ny, nx = arr.shape\n",
    "nflashed = 0\n",
    "while True:\n",
    "    arr += 1\n",
    "    flashed = np.argwhere(arr > 9)\n",
    "    while flashed.shape[0] > 0:\n",
    "        arr[arr > 9] = 0\n",
    "        for f in flashed:\n",
    "            nflashed += 1\n",
    "            ly = f[0] - 1\n",
    "            if ly < 0:\n",
    "                ly = 0\n",
    "            lx = f[1] -1\n",
    "            if lx < 0:\n",
    "                lx = 0\n",
    "            # slice doesn't like neg indices, but will cap at length of axis.\n",
    "            # that's why we need to check lower end, but not upper.\n",
    "            sy = slice(ly, f[0]+2)\n",
    "            sx = slice(lx, f[1]+2)\n",
    "            subarr = arr[sy, sx]\n",
    "            subarr[subarr > 0] += 1\n",
    "            arr[sy, sx] = subarr\n",
    "        flashed = np.argwhere(arr > 9)\n",
    "    counter += 1\n",
    "    if arr[arr == 0].size == arr.size:\n",
    "        break\n",
    "arr, nflashed, counter"
   ]
  }
 ],
 "metadata": {
  "interpreter": {
   "hash": "ecc22ddafbb7680a410089353d25f05dc1cd64666e6afd042de696b9ecdc2135"
  },
  "kernelspec": {
   "display_name": "Python 3.9.7 64-bit ('py39': conda)",
   "language": "python",
   "name": "python3"
  },
  "language_info": {
   "codemirror_mode": {
    "name": "ipython",
    "version": 3
   },
   "file_extension": ".py",
   "mimetype": "text/x-python",
   "name": "python",
   "nbconvert_exporter": "python",
   "pygments_lexer": "ipython3",
   "version": "3.9.7"
  },
  "orig_nbformat": 4
 },
 "nbformat": 4,
 "nbformat_minor": 2
}
