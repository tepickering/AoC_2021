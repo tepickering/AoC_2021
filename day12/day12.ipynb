{
 "cells": [
  {
   "cell_type": "code",
   "execution_count": 2,
   "metadata": {},
   "outputs": [],
   "source": [
    "from collections import defaultdict, deque"
   ]
  },
  {
   "cell_type": "code",
   "execution_count": 3,
   "metadata": {},
   "outputs": [],
   "source": [
    "def load_data(datafile):\n",
    "    caves = defaultdict(list)\n",
    "    with open(datafile, 'r') as fp:\n",
    "        for l in fp.readlines():\n",
    "            a, b = l.strip().split('-')\n",
    "            caves[a].append(b)\n",
    "            caves[b].append(a)\n",
    "    return caves"
   ]
  },
  {
   "cell_type": "code",
   "execution_count": 4,
   "metadata": {},
   "outputs": [
    {
     "data": {
      "text/plain": [
       "defaultdict(list,\n",
       "            {'dc': ['end', 'start', 'HN', 'LN', 'kj'],\n",
       "             'end': ['dc', 'HN'],\n",
       "             'HN': ['start', 'dc', 'end', 'kj'],\n",
       "             'start': ['HN', 'kj', 'dc'],\n",
       "             'kj': ['start', 'sa', 'HN', 'dc'],\n",
       "             'LN': ['dc'],\n",
       "             'sa': ['kj']})"
      ]
     },
     "execution_count": 4,
     "metadata": {},
     "output_type": "execute_result"
    }
   ],
   "source": [
    "load_data(\"test1.txt\")"
   ]
  },
  {
   "cell_type": "code",
   "execution_count": null,
   "metadata": {},
   "outputs": [],
   "source": []
  }
 ],
 "metadata": {
  "interpreter": {
   "hash": "ecc22ddafbb7680a410089353d25f05dc1cd64666e6afd042de696b9ecdc2135"
  },
  "kernelspec": {
   "display_name": "Python 3.9.7 64-bit ('py39': conda)",
   "language": "python",
   "name": "python3"
  },
  "language_info": {
   "codemirror_mode": {
    "name": "ipython",
    "version": 3
   },
   "file_extension": ".py",
   "mimetype": "text/x-python",
   "name": "python",
   "nbconvert_exporter": "python",
   "pygments_lexer": "ipython3",
   "version": "3.9.7"
  },
  "orig_nbformat": 4
 },
 "nbformat": 4,
 "nbformat_minor": 2
}
