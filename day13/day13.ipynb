{
 "cells": [
  {
   "cell_type": "code",
   "execution_count": 123,
   "metadata": {},
   "outputs": [],
   "source": [
    "import numpy as np\n",
    "import matplotlib.pyplot as plt"
   ]
  },
  {
   "cell_type": "code",
   "execution_count": 2,
   "metadata": {},
   "outputs": [],
   "source": [
    "def load_data(datafile):\n",
    "    points = []\n",
    "    folds = []\n",
    "    with open(datafile, 'r') as fp:\n",
    "        for l in fp.readlines():\n",
    "            if ',' in l:\n",
    "                points.append([int(i) for i in l.split(',')])\n",
    "            if 'fold' in l:\n",
    "                _, _, fold = l.strip().split()\n",
    "                axis, pos = fold.split('=')\n",
    "                folds.append([axis, int(pos)])\n",
    "    return np.array(points), folds"
   ]
  },
  {
   "cell_type": "code",
   "execution_count": 10,
   "metadata": {},
   "outputs": [],
   "source": [
    "points, folds = load_data(\"test.txt\")"
   ]
  },
  {
   "cell_type": "code",
   "execution_count": 19,
   "metadata": {},
   "outputs": [
    {
     "name": "stdout",
     "output_type": "stream",
     "text": [
      "[ 6 10]\n",
      "[ 0 14]\n",
      "[ 9 10]\n",
      "[0 3]\n",
      "[10  4]\n",
      "[ 4 11]\n",
      "[6 0]\n",
      "[ 6 12]\n",
      "[4 1]\n",
      "[ 0 13]\n",
      "[10 12]\n",
      "[3 4]\n",
      "[3 0]\n",
      "[8 4]\n",
      "[ 1 10]\n",
      "[ 2 14]\n",
      "[ 8 10]\n",
      "[9 0]\n"
     ]
    }
   ],
   "source": [
    "for p in points:\n",
    "    print(p)"
   ]
  },
  {
   "cell_type": "code",
   "execution_count": 70,
   "metadata": {},
   "outputs": [],
   "source": [
    "def fold(datafile):\n",
    "    points, folds = load_data(datafile)\n",
    "    xsize = points[:, 0].max() + 1\n",
    "    ysize = points[:, 1].max() + 1\n",
    "    arr = np.zeros(ysize * xsize).reshape(ysize, xsize)\n",
    "    for p in points:\n",
    "        arr[p[1], p[0]] = 1\n",
    "    return arr, folds"
   ]
  },
  {
   "cell_type": "code",
   "execution_count": 51,
   "metadata": {},
   "outputs": [],
   "source": [
    "im, folds = fold(\"test.txt\")"
   ]
  },
  {
   "cell_type": "code",
   "execution_count": 109,
   "metadata": {},
   "outputs": [],
   "source": [
    "def fold_y(arr, y):\n",
    "    upper = arr[:y, :]\n",
    "    lower = np.flipud(arr[y+1:, :])\n",
    "    if lower.shape[0] > upper.shape[0]:\n",
    "        starty = lower.shape[0] - upper.shape[0]\n",
    "        overlap = lower[starty:, :] + upper\n",
    "        fold_arr = np.vstack((lower[:starty, :], overlap))\n",
    "    elif lower.shape[0] < upper.shape[0]:\n",
    "        starty = upper.shape[0] - lower.shape[0]\n",
    "        overlap = upper[starty:, :] + lower\n",
    "        fold_arr = np.vstack((upper[:starty, :], overlap))\n",
    "    else:\n",
    "        fold_arr = upper + lower\n",
    "    return fold_arr\n",
    "\n",
    "def fold_x(arr, x):\n",
    "    left = arr[:, :x]\n",
    "    right = np.fliplr(arr[:, x+1:])\n",
    "    if left.shape[1] > right.shape[1]:\n",
    "        startx = left.shape[1] - right.shape[1]\n",
    "        overlap = left[:, startx:] + right\n",
    "        fold_arr = np.hstack((left[:, :startx], overlap))\n",
    "    elif left.shape[1] < right.shape[1]:\n",
    "        startx = right.shape[1] - left.shape[1]\n",
    "        overlap = right[:, startx:] + left\n",
    "        fold_arr = np.hstack((right[:, :startx], overlap))\n",
    "    else:\n",
    "        fold_arr = left + right\n",
    "    return fold_arr"
   ]
  },
  {
   "cell_type": "code",
   "execution_count": 110,
   "metadata": {},
   "outputs": [
    {
     "data": {
      "text/plain": [
       "(array([0., 1.]), array([60, 17]))"
      ]
     },
     "execution_count": 110,
     "metadata": {},
     "output_type": "execute_result"
    }
   ],
   "source": [
    "test_arr = fold_x(fold_y(im, 7), 5)\n",
    "test_arr = fold_y(im, 7)\n",
    "test_arr[test_arr >= 1] = 1\n",
    "np.unique(test_arr, return_counts=True)"
   ]
  },
  {
   "cell_type": "code",
   "execution_count": 111,
   "metadata": {},
   "outputs": [
    {
     "data": {
      "text/plain": [
       "array([[1., 0., 1., 1., 0., 0., 1., 0., 0., 1., 0.],\n",
       "       [1., 0., 0., 0., 1., 0., 0., 0., 0., 0., 0.],\n",
       "       [0., 0., 0., 0., 0., 0., 1., 0., 0., 0., 1.],\n",
       "       [1., 0., 0., 0., 1., 0., 0., 0., 0., 0., 0.],\n",
       "       [0., 1., 0., 1., 0., 0., 1., 0., 1., 1., 1.],\n",
       "       [0., 0., 0., 0., 0., 0., 0., 0., 0., 0., 0.],\n",
       "       [0., 0., 0., 0., 0., 0., 0., 0., 0., 0., 0.]])"
      ]
     },
     "execution_count": 111,
     "metadata": {},
     "output_type": "execute_result"
    }
   ],
   "source": [
    "test_arr"
   ]
  },
  {
   "cell_type": "code",
   "execution_count": 119,
   "metadata": {},
   "outputs": [
    {
     "data": {
      "text/plain": [
       "(array([0., 1.]), array([584297,    618]))"
      ]
     },
     "execution_count": 119,
     "metadata": {},
     "output_type": "execute_result"
    }
   ],
   "source": [
    "im_full, folds_full = fold(\"input.txt\")\n",
    "folded = fold_x(im_full, 655)\n",
    "folded[folded >=1] = 1\n",
    "np.unique(folded, return_counts=True)"
   ]
  },
  {
   "cell_type": "code",
   "execution_count": 121,
   "metadata": {},
   "outputs": [],
   "source": [
    "im_full, folds_full = fold(\"input.txt\")\n",
    "fold_arr = im_full.copy()"
   ]
  },
  {
   "cell_type": "code",
   "execution_count": 122,
   "metadata": {},
   "outputs": [
    {
     "data": {
      "text/plain": [
       "array([[ 0.,  3.,  5.,  0.,  0.,  6.,  0.,  0.,  0.,  0., 29.,  7.,  3.,\n",
       "         0.,  0.,  1., 16., 10.,  7.,  0.,  1.,  0.,  0.,  4.,  0.,  7.,\n",
       "        18.,  8.,  4.,  0., 15.,  0.,  0., 26.,  0.,  3.,  0.,  0.,  1.,\n",
       "         0.],\n",
       "       [ 3.,  0.,  0.,  3.,  0.,  5.,  0.,  0.,  0.,  0.,  1.,  0.,  0.,\n",
       "        13.,  0., 16.,  0.,  0.,  0.,  0.,  8.,  0.,  4.,  0.,  0., 21.,\n",
       "         0.,  0.,  0.,  0.,  9.,  0.,  4.,  0.,  0., 11.,  0.,  0., 10.,\n",
       "         0.],\n",
       "       [ 2.,  0.,  0.,  5.,  0., 16.,  0.,  0.,  0.,  0.,  9.,  0.,  0.,\n",
       "        15.,  0.,  4.,  8.,  3.,  0.,  0., 21.,  4.,  0.,  0.,  0.,  2.,\n",
       "         3.,  9.,  0.,  0.,  4.,  9.,  0.,  0.,  0.,  7.,  0.,  0.,  1.,\n",
       "         0.],\n",
       "       [10.,  6.,  3., 11.,  0.,  2.,  0.,  0.,  0.,  0.,  2., 10.,  6.,\n",
       "         0.,  0., 12.,  0.,  0.,  0.,  0.,  5.,  0., 10.,  0.,  0., 11.,\n",
       "         0.,  0.,  0.,  0.,  6.,  0.,  6.,  0.,  0., 17.,  0.,  0.,  3.,\n",
       "         0.],\n",
       "       [11.,  0.,  0.,  8.,  0., 13.,  0.,  0.,  0.,  0.,  4.,  0.,  6.,\n",
       "         0.,  0.,  1.,  0.,  0.,  0.,  0., 10.,  0.,  2.,  0.,  0.,  8.,\n",
       "         0.,  0.,  0.,  0., 11.,  0.,  2.,  0.,  0.,  6.,  0.,  0.,  2.,\n",
       "         0.],\n",
       "       [12.,  0.,  0.,  9.,  0.,  5.,  1., 18., 21.,  0.,  5.,  0.,  0.,\n",
       "         1.,  0., 10.,  2., 15.,  3.,  0.,  3.,  0.,  0.,  9.,  0.,  2.,\n",
       "         0.,  0.,  0.,  0.,  3.,  0.,  0.,  1.,  0.,  0.,  6.,  9.,  0.,\n",
       "         0.]])"
      ]
     },
     "execution_count": 122,
     "metadata": {},
     "output_type": "execute_result"
    }
   ],
   "source": [
    "for fold in folds_full:\n",
    "    if fold[0] == 'x':\n",
    "        fold_arr = fold_x(fold_arr, fold[1])\n",
    "    else:\n",
    "        fold_arr = fold_y(fold_arr, fold[1])\n",
    "fold_arr"
   ]
  },
  {
   "cell_type": "code",
   "execution_count": 125,
   "metadata": {},
   "outputs": [
    {
     "data": {
      "text/plain": [
       "<matplotlib.image.AxesImage at 0x7feaccfd7c10>"
      ]
     },
     "execution_count": 125,
     "metadata": {},
     "output_type": "execute_result"
    },
    {
     "data": {
      "image/png": "[encoded data removed]",
      "text/plain": [
       "<Figure size 432x288 with 1 Axes>"
      ]
     },
     "metadata": {
      "needs_background": "light"
     },
     "output_type": "display_data"
    }
   ],
   "source": [
    "fold_arr[fold_arr >= 1] = 1\n",
    "plt.imshow(fold_arr)"
   ]
  },
  {
   "cell_type": "code",
   "execution_count": null,
   "metadata": {},
   "outputs": [],
   "source": []
  }
 ],
 "metadata": {
  "interpreter": {
   "hash": "ecc22ddafbb7680a410089353d25f05dc1cd64666e6afd042de696b9ecdc2135"
  },
  "kernelspec": {
   "display_name": "Python 3.9.7 64-bit ('py39': conda)",
   "language": "python",
   "name": "python3"
  },
  "language_info": {
   "codemirror_mode": {
    "name": "ipython",
    "version": 3
   },
   "file_extension": ".py",
   "mimetype": "text/x-python",
   "name": "python",
   "nbconvert_exporter": "python",
   "pygments_lexer": "ipython3",
   "version": "3.9.7"
  },
  "orig_nbformat": 4
 },
 "nbformat": 4,
 "nbformat_minor": 2
}
