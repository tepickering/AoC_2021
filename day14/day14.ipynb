{
 "cells": [
  {
   "cell_type": "code",
   "execution_count": 1,
   "metadata": {},
   "outputs": [],
   "source": [
    "import numpy as np\n",
    "from collections import defaultdict"
   ]
  },
  {
   "cell_type": "code",
   "execution_count": 2,
   "metadata": {},
   "outputs": [],
   "source": [
    "def load_data(datafile):\n",
    "    polymer_map = {}\n",
    "    with open(datafile, 'r') as fp:\n",
    "        data = fp.readlines()\n",
    "        init_str = data[0].strip()\n",
    "        for l in data[2:]:\n",
    "            pair, element = l.strip().split(' -> ')\n",
    "            polymer_map[pair] = element\n",
    "    return init_str, polymer_map"
   ]
  },
  {
   "cell_type": "code",
   "execution_count": 3,
   "metadata": {},
   "outputs": [
    {
     "data": {
      "text/plain": [
       "('NNCB',\n",
       " {'CH': 'B',\n",
       "  'HH': 'N',\n",
       "  'CB': 'H',\n",
       "  'NH': 'C',\n",
       "  'HB': 'C',\n",
       "  'HC': 'B',\n",
       "  'HN': 'C',\n",
       "  'NN': 'C',\n",
       "  'BH': 'H',\n",
       "  'NC': 'B',\n",
       "  'NB': 'B',\n",
       "  'BN': 'B',\n",
       "  'BB': 'N',\n",
       "  'BC': 'B',\n",
       "  'CC': 'N',\n",
       "  'CN': 'C'})"
      ]
     },
     "execution_count": 3,
     "metadata": {},
     "output_type": "execute_result"
    }
   ],
   "source": [
    "load_data(\"test.txt\")"
   ]
  },
  {
   "cell_type": "code",
   "execution_count": 52,
   "metadata": {},
   "outputs": [],
   "source": [
    "def poly_grow(datafile, nstep=4):\n",
    "    poly_str, poly_map = load_data(datafile)\n",
    "    poly_arr = [c for c in poly_str]\n",
    "    count = 0\n",
    "    while count < nstep:\n",
    "        n = 0\n",
    "        new_arr = []\n",
    "        while n < len(poly_arr)-1:\n",
    "            new_arr.append(poly_arr[n])\n",
    "            new_arr.append(poly_map[poly_arr[n] + poly_arr[n+1]])\n",
    "            n += 1\n",
    "        new_arr.append(poly_arr[-1])\n",
    "        poly_arr = new_arr\n",
    "        count += 1\n",
    "    return ''.join(poly_arr)\n",
    "\n",
    "def poly_count(datafile, nstep=4):\n",
    "    pairs_counter = defaultdict(int)\n",
    "    poly_str, poly_map = load_data(datafile)\n",
    "    for p in [i + j for i, j in zip(poly_str, poly_str[1:])]:\n",
    "        pairs_counter[p] += 1\n",
    "    \n",
    "    for _ in range(nstep):\n",
    "        next_pairs = defaultdict(int)\n",
    "        for pair, sum in pairs_counter.items():\n",
    "            a, b = pair[0], pair[1]\n",
    "            i = poly_map[pair]\n",
    "            next_pairs[a+i] += sum\n",
    "            next_pairs[i+b] += sum\n",
    "        pairs_counter = next_pairs\n",
    "\n",
    "    totals = defaultdict(int)\n",
    "    for pair, val in pairs_counter.items():\n",
    "        a, b = pair[0], pair[1]\n",
    "        totals[a] += val\n",
    "    totals[poly_str[-1]] += 1\n",
    "    diff = max(totals.values()) - min(totals.values())\n",
    "    return totals, diff\n",
    "    "
   ]
  },
  {
   "cell_type": "code",
   "execution_count": 88,
   "metadata": {},
   "outputs": [
    {
     "data": {
      "text/plain": [
       "True"
      ]
     },
     "execution_count": 88,
     "metadata": {},
     "output_type": "execute_result"
    }
   ],
   "source": [
    "poly_grow(\"test.txt\") == \"NBBNBNBBCCNBCNCCNBBNBBNBBBNBBNBBCBHCBHHNHCBBCBHCB\""
   ]
  },
  {
   "cell_type": "code",
   "execution_count": 48,
   "metadata": {},
   "outputs": [
    {
     "data": {
      "text/plain": [
       "(defaultdict(int,\n",
       "             {'B': 965,\n",
       "              'N': 1985,\n",
       "              'F': 2659,\n",
       "              'V': 2381,\n",
       "              'C': 2150,\n",
       "              'S': 2323,\n",
       "              'P': 1240,\n",
       "              'K': 3147,\n",
       "              'O': 1805,\n",
       "              'H': 802}),\n",
       " 2345)"
      ]
     },
     "execution_count": 48,
     "metadata": {},
     "output_type": "execute_result"
    }
   ],
   "source": [
    "full_str = poly_grow(\"input.txt\", nstep=10)\n",
    "cnt = defaultdict(int)\n",
    "for c in full_str:\n",
    "    cnt[c] += 1\n",
    "cnt, max(cnt.values()) - min(cnt.values())"
   ]
  },
  {
   "cell_type": "code",
   "execution_count": 53,
   "metadata": {},
   "outputs": [
    {
     "data": {
      "text/plain": [
       "(defaultdict(int,\n",
       "             {'B': 965,\n",
       "              'N': 1985,\n",
       "              'F': 2659,\n",
       "              'V': 2381,\n",
       "              'C': 2150,\n",
       "              'S': 2323,\n",
       "              'P': 1240,\n",
       "              'K': 3147,\n",
       "              'O': 1805,\n",
       "              'H': 802}),\n",
       " 2345)"
      ]
     },
     "execution_count": 53,
     "metadata": {},
     "output_type": "execute_result"
    }
   ],
   "source": [
    "poly_count(\"input.txt\", nstep=10)"
   ]
  },
  {
   "cell_type": "code",
   "execution_count": 57,
   "metadata": {},
   "outputs": [
    {
     "name": "stdout",
     "output_type": "stream",
     "text": [
      "1.45 ms ± 7.36 µs per loop (mean ± std. dev. of 7 runs, 1000 loops each)\n"
     ]
    }
   ],
   "source": [
    "%timeit poly_count(\"input.txt\", nstep=40)"
   ]
  },
  {
   "cell_type": "code",
   "execution_count": null,
   "metadata": {},
   "outputs": [],
   "source": []
  }
 ],
 "metadata": {
  "interpreter": {
   "hash": "ecc22ddafbb7680a410089353d25f05dc1cd64666e6afd042de696b9ecdc2135"
  },
  "kernelspec": {
   "display_name": "Python 3.9.7 64-bit ('py39': conda)",
   "language": "python",
   "name": "python3"
  },
  "language_info": {
   "codemirror_mode": {
    "name": "ipython",
    "version": 3
   },
   "file_extension": ".py",
   "mimetype": "text/x-python",
   "name": "python",
   "nbconvert_exporter": "python",
   "pygments_lexer": "ipython3",
   "version": "3.9.7"
  },
  "orig_nbformat": 4
 },
 "nbformat": 4,
 "nbformat_minor": 2
}
