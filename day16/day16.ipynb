{
 "cells": [
  {
   "cell_type": "code",
   "execution_count": 3,
   "metadata": {},
   "outputs": [],
   "source": [
    "import numpy as np"
   ]
  },
  {
   "cell_type": "code",
   "execution_count": 4,
   "metadata": {},
   "outputs": [],
   "source": [
    "def hex2bin(c):\n",
    "    return np.binary_repr(int(c, base=16), width=4)\n",
    "\n",
    "def decode2bin(s):\n",
    "    num = \"\"\n",
    "    for c in s:\n",
    "        num += hex2bin(c)\n",
    "    return num\n",
    "\n",
    "def pack(arr, wordsize=8):\n",
    "    npack = wordsize - len(arr)\n",
    "    return np.hstack([np.zeros(npack, dtype=int), arr])\n",
    "\n",
    "def pack8(arr):\n",
    "    return np.packbits(pack(arr, wordsize=8))[0]\n",
    "\n",
    "def pack16(arr):\n",
    "    bytearr = np.packbits(pack(arr, wordsize=16))\n",
    "    return 256 * bytearr[0] + bytearr[1]\n",
    "\n",
    "def arr2str(arr):\n",
    "    return ''.join([f\"{i}\" for i in arr])"
   ]
  },
  {
   "cell_type": "code",
   "execution_count": 6,
   "metadata": {},
   "outputs": [
    {
     "data": {
      "text/plain": [
       "'110100101111111000101000'"
      ]
     },
     "execution_count": 6,
     "metadata": {},
     "output_type": "execute_result"
    }
   ],
   "source": [
    "test_str = \"D2FE28\"\n",
    "decode2bin(test_str)"
   ]
  },
  {
   "cell_type": "code",
   "execution_count": 7,
   "metadata": {},
   "outputs": [
    {
     "data": {
      "text/plain": [
       "'00111000000000000110111101000101001010010001001000000000'"
      ]
     },
     "execution_count": 7,
     "metadata": {},
     "output_type": "execute_result"
    }
   ],
   "source": [
    "decode2bin(\"38006F45291200\")"
   ]
  },
  {
   "cell_type": "code",
   "execution_count": 138,
   "metadata": {},
   "outputs": [],
   "source": [
    "def mainparser(binstr):\n",
    "    output = 0\n",
    "    if len(binstr) > 6:\n",
    "        ver = int(binstr[:3], base=2)\n",
    "        typ = int(binstr[3:6], base=2)\n",
    "        binstr = binstr[6:]\n",
    "        if typ == 4:\n",
    "            binstr, output = literal(binstr)\n",
    "            print(f\"literal returned {output}\")\n",
    "        else:\n",
    "            if binstr[0] == \"0\":\n",
    "                literals = []\n",
    "                subpacketlen = int(binstr[1:16], 2)\n",
    "                binstr = binstr[16:]\n",
    "                subpackets = binstr[:subpacketlen]\n",
    "                binstr = binstr[subpacketlen:]\n",
    "                while True:\n",
    "                    subpackets, v = mainparser(subpackets)\n",
    "                    literals += [v]\n",
    "                    if len(subpackets) < 6:\n",
    "                        break\n",
    "                output = operation(literals, typ)\n",
    "            else:\n",
    "                literals = []\n",
    "                subcount = int(binstr[1:12], base=2)\n",
    "                binstr = binstr[12:]\n",
    "                for _ in range(subcount):\n",
    "                    binstr, v = mainparser(binstr)\n",
    "                    literals += [v]\n",
    "                output = operation(literals, typ)\n",
    "\n",
    "    return binstr, output\n",
    "\n",
    "def literal(binstr):\n",
    "    chunks = []\n",
    "    chunking = True\n",
    "    while chunking:\n",
    "        chunks += [binstr[:5]]\n",
    "        binstr = binstr[5:]\n",
    "        if chunks[-1][0] == '0':\n",
    "            chunking = False\n",
    "    l = int(''.join([x[1:] for x in chunks]), 2)\n",
    "    return binstr, l\n",
    "\n",
    "def prod(literals):\n",
    "    out = literals[0]\n",
    "    for x in literals[1:]:\n",
    "        out *= x\n",
    "    return out\n",
    "\n",
    "def operation(literals, op):\n",
    "    if op == 0:\n",
    "        print(f\"add {literals}\")\n",
    "        return sum(literals)\n",
    "    elif op == 1:\n",
    "        print(f\"prod {literals}\")\n",
    "        return prod(literals)\n",
    "    elif op == 2:\n",
    "        print(f\"min {literals}\")\n",
    "        return min(literals)\n",
    "    elif op == 3:\n",
    "        print(f\"max {literals}\")\n",
    "        return max(literals)\n",
    "    elif op == 5:\n",
    "        print(f\"gt {literals}\")\n",
    "        return 1 if literals[0] > literals[1] else 0\n",
    "    elif op == 6:\n",
    "        print(f\"lt {literals}\")\n",
    "        return 1 if literals[0] < literals[1] else 0\n",
    "    elif op == 7:\n",
    "        print(f\"eq {literals}\")\n",
    "        return 1 if literals[0] == literals[1] else 0"
   ]
  },
  {
   "cell_type": "code",
   "execution_count": 141,
   "metadata": {},
   "outputs": [
    {
     "name": "stdout",
     "output_type": "stream",
     "text": [
      "literal returned 1\n",
      "literal returned 3\n",
      "add [1, 3]\n",
      "literal returned 2\n",
      "literal returned 2\n",
      "prod [2, 2]\n",
      "eq [4, 4]\n"
     ]
    },
    {
     "data": {
      "text/plain": [
       "('00', 1)"
      ]
     },
     "execution_count": 141,
     "metadata": {},
     "output_type": "execute_result"
    }
   ],
   "source": [
    "mainparser(decode2bin(\"9C0141080250320F1802104A08\"))"
   ]
  },
  {
   "cell_type": "code",
   "execution_count": 125,
   "metadata": {},
   "outputs": [
    {
     "name": "stdout",
     "output_type": "stream",
     "text": [
      "ver = 6, typ = 4\n",
      "literal returned 2021\n"
     ]
    },
    {
     "data": {
      "text/plain": [
       "(6, '000')"
      ]
     },
     "execution_count": 125,
     "metadata": {},
     "output_type": "execute_result"
    }
   ],
   "source": [
    "mainparser(decode2bin(test_str))"
   ]
  },
  {
   "cell_type": "code",
   "execution_count": 126,
   "metadata": {},
   "outputs": [
    {
     "name": "stdout",
     "output_type": "stream",
     "text": [
      "ver = 1, typ = 6\n",
      "ver = 6, typ = 4\n",
      "literal returned 10\n",
      "ver = 2, typ = 4\n",
      "literal returned 20\n"
     ]
    },
    {
     "data": {
      "text/plain": [
       "(9, '0000000')"
      ]
     },
     "execution_count": 126,
     "metadata": {},
     "output_type": "execute_result"
    }
   ],
   "source": [
    "mainparser(decode2bin(\"38006F45291200\"))"
   ]
  },
  {
   "cell_type": "code",
   "execution_count": 127,
   "metadata": {},
   "outputs": [
    {
     "name": "stdout",
     "output_type": "stream",
     "text": [
      "ver = 7, typ = 3\n",
      "ver = 2, typ = 4\n",
      "literal returned 1\n",
      "ver = 4, typ = 4\n",
      "literal returned 2\n",
      "ver = 1, typ = 4\n",
      "literal returned 3\n"
     ]
    },
    {
     "data": {
      "text/plain": [
       "(14, '00000')"
      ]
     },
     "execution_count": 127,
     "metadata": {},
     "output_type": "execute_result"
    }
   ],
   "source": [
    "mainparser(decode2bin(\"EE00D40C823060\"))"
   ]
  },
  {
   "cell_type": "code",
   "execution_count": 128,
   "metadata": {},
   "outputs": [
    {
     "name": "stdout",
     "output_type": "stream",
     "text": [
      "ver = 4, typ = 2\n",
      "ver = 1, typ = 2\n",
      "ver = 5, typ = 2\n",
      "ver = 6, typ = 4\n",
      "literal returned 15\n"
     ]
    },
    {
     "data": {
      "text/plain": [
       "(16, '000')"
      ]
     },
     "execution_count": 128,
     "metadata": {},
     "output_type": "execute_result"
    }
   ],
   "source": [
    "mainparser(decode2bin(\"8A004A801A8002F478\"))"
   ]
  },
  {
   "cell_type": "code",
   "execution_count": 129,
   "metadata": {},
   "outputs": [
    {
     "name": "stdout",
     "output_type": "stream",
     "text": [
      "ver = 3, typ = 0\n",
      "ver = 0, typ = 0\n",
      "ver = 0, typ = 4\n",
      "literal returned 10\n",
      "ver = 5, typ = 4\n",
      "literal returned 11\n",
      "ver = 1, typ = 0\n",
      "ver = 0, typ = 4\n",
      "literal returned 12\n",
      "ver = 3, typ = 4\n",
      "literal returned 13\n"
     ]
    },
    {
     "data": {
      "text/plain": [
       "(12, '00')"
      ]
     },
     "execution_count": 129,
     "metadata": {},
     "output_type": "execute_result"
    }
   ],
   "source": [
    "mainparser(decode2bin(\"620080001611562C8802118E34\"))"
   ]
  },
  {
   "cell_type": "code",
   "execution_count": 130,
   "metadata": {},
   "outputs": [
    {
     "name": "stdout",
     "output_type": "stream",
     "text": [
      "ver = 6, typ = 0\n",
      "ver = 0, typ = 0\n",
      "ver = 0, typ = 4\n",
      "literal returned 10\n",
      "ver = 6, typ = 4\n",
      "literal returned 11\n",
      "ver = 4, typ = 0\n",
      "ver = 7, typ = 4\n",
      "literal returned 12\n",
      "ver = 0, typ = 4\n",
      "literal returned 13\n"
     ]
    },
    {
     "data": {
      "text/plain": [
       "(23, '000000')"
      ]
     },
     "execution_count": 130,
     "metadata": {},
     "output_type": "execute_result"
    }
   ],
   "source": [
    "mainparser(decode2bin(\"C0015000016115A2E0802F182340\"))"
   ]
  },
  {
   "cell_type": "code",
   "execution_count": 131,
   "metadata": {},
   "outputs": [
    {
     "name": "stdout",
     "output_type": "stream",
     "text": [
      "ver = 5, typ = 0\n",
      "ver = 1, typ = 0\n",
      "ver = 3, typ = 0\n",
      "ver = 7, typ = 4\n",
      "literal returned 6\n",
      "ver = 6, typ = 4\n",
      "literal returned 6\n",
      "ver = 5, typ = 4\n",
      "literal returned 12\n",
      "ver = 2, typ = 4\n",
      "literal returned 15\n",
      "ver = 2, typ = 4\n",
      "literal returned 15\n"
     ]
    },
    {
     "data": {
      "text/plain": [
       "(31, '0000000')"
      ]
     },
     "execution_count": 131,
     "metadata": {},
     "output_type": "execute_result"
    }
   ],
   "source": [
    "mainparser(decode2bin(\"A0016C880162017C3686B18A3D4780\"))"
   ]
  },
  {
   "cell_type": "code",
   "execution_count": 142,
   "metadata": {},
   "outputs": [
    {
     "name": "stdout",
     "output_type": "stream",
     "text": [
      "literal returned 206\n",
      "literal returned 176\n",
      "add [206, 176]\n",
      "literal returned 14\n",
      "literal returned 12148392\n",
      "literal returned 68454822\n",
      "max [12148392, 68454822]\n",
      "literal returned 2967250\n",
      "literal returned 95\n",
      "lt [2967250, 95]\n",
      "literal returned 1247339414\n",
      "prod [0, 1247339414]\n",
      "literal returned 4731280\n",
      "literal returned 49792\n",
      "literal returned 3454\n",
      "eq [49792, 3454]\n",
      "prod [4731280, 0]\n",
      "literal returned 732272\n",
      "literal returned 10\n",
      "literal returned 13\n",
      "literal returned 6\n",
      "add [10, 13, 6]\n",
      "literal returned 2\n",
      "literal returned 8\n",
      "literal returned 11\n",
      "add [2, 8, 11]\n",
      "gt [29, 21]\n",
      "literal returned 106\n",
      "prod [1, 106]\n",
      "literal returned 11\n",
      "literal returned 11969338\n",
      "min [11, 11969338]\n",
      "literal returned 286428\n",
      "max [286428]\n",
      "literal returned 168\n",
      "literal returned 14637\n",
      "literal returned 185\n",
      "gt [14637, 185]\n",
      "literal returned 3022\n",
      "prod [1, 3022]\n",
      "literal returned 2501\n",
      "literal returned 60221721728\n",
      "literal returned 1973125485\n",
      "literal returned 250571\n",
      "add [2501, 60221721728, 1973125485, 250571]\n",
      "literal returned 114\n",
      "literal returned 193\n",
      "literal returned 157\n",
      "literal returned 237\n",
      "literal returned 82\n",
      "prod [114, 193, 157, 237, 82]\n",
      "literal returned 5\n",
      "literal returned 4\n",
      "literal returned 10059492\n",
      "literal returned 74\n",
      "max [5, 4, 10059492, 74]\n",
      "literal returned 12987728\n",
      "min [12987728]\n",
      "literal returned 61740865406\n",
      "literal returned 142\n",
      "gt [61740865406, 142]\n",
      "literal returned 145\n",
      "prod [1, 145]\n",
      "literal returned 93130912385\n",
      "literal returned 6\n",
      "literal returned 10\n",
      "literal returned 5\n",
      "add [6, 10, 5]\n",
      "literal returned 7\n",
      "literal returned 13\n",
      "literal returned 7\n",
      "add [7, 13, 7]\n",
      "eq [21, 27]\n",
      "prod [93130912385, 0]\n",
      "literal returned 4\n",
      "literal returned 7\n",
      "literal returned 8\n",
      "add [4, 7, 8]\n",
      "literal returned 9\n",
      "literal returned 11\n",
      "literal returned 11\n",
      "add [9, 11, 11]\n",
      "lt [19, 31]\n",
      "literal returned 39939\n",
      "prod [1, 39939]\n",
      "literal returned 5\n",
      "literal returned 13\n",
      "literal returned 12\n",
      "add [5, 13, 12]\n",
      "literal returned 6\n",
      "literal returned 3\n",
      "literal returned 5\n",
      "add [6, 3, 5]\n",
      "literal returned 12\n",
      "literal returned 8\n",
      "literal returned 9\n",
      "add [12, 8, 9]\n",
      "prod [30, 14, 29]\n",
      "literal returned 108\n",
      "literal returned 44401\n",
      "literal returned 220\n",
      "literal returned 14506238\n",
      "literal returned 298953\n",
      "max [108, 44401, 220, 14506238, 298953]\n",
      "literal returned 55096\n",
      "literal returned 16\n",
      "literal returned 64900168826\n",
      "add [55096, 16, 64900168826]\n",
      "literal returned 2633\n",
      "literal returned 2601\n",
      "literal returned 184051\n",
      "min [2633, 2601, 184051]\n",
      "literal returned 404698\n",
      "literal returned 2110\n",
      "literal returned 338037\n",
      "literal returned 13\n",
      "min [404698, 2110, 338037, 13]\n",
      "literal returned 236\n",
      "prod [236]\n",
      "literal returned 543976\n",
      "literal returned 5923756\n",
      "literal returned 203807\n",
      "literal returned 733616\n",
      "literal returned 7\n",
      "literal returned 47338\n",
      "min [5923756, 203807, 733616, 7, 47338]\n",
      "literal returned 1191\n",
      "literal returned 3\n",
      "literal returned 10\n",
      "literal returned 6\n",
      "add [3, 10, 6]\n",
      "literal returned 5\n",
      "literal returned 11\n",
      "literal returned 13\n",
      "add [5, 11, 13]\n",
      "lt [19, 29]\n",
      "prod [1191, 1]\n",
      "literal returned 6\n",
      "literal returned 144\n",
      "literal returned 22\n",
      "literal returned 141\n",
      "prod [144, 22, 141]\n",
      "literal returned 151\n",
      "literal returned 148\n",
      "prod [151, 148]\n",
      "literal returned 15\n",
      "literal returned 79\n",
      "literal returned 79\n",
      "eq [79, 79]\n",
      "literal returned 198\n",
      "prod [1, 198]\n",
      "literal returned 16784\n",
      "literal returned 146\n",
      "literal returned 146\n",
      "gt [146, 146]\n",
      "prod [16784, 0]\n",
      "literal returned 1925\n",
      "literal returned 2971\n",
      "gt [1925, 2971]\n",
      "literal returned 2346206\n",
      "prod [0, 2346206]\n",
      "literal returned 323506\n",
      "literal returned 1\n",
      "literal returned 193\n",
      "lt [1, 193]\n",
      "prod [323506, 1]\n",
      "literal returned 3\n",
      "literal returned 9\n",
      "literal returned 6\n",
      "literal returned 10\n",
      "prod [9, 6, 10]\n",
      "literal returned 8\n",
      "literal returned 7\n",
      "literal returned 6\n",
      "prod [8, 7, 6]\n",
      "literal returned 9\n",
      "literal returned 3\n",
      "literal returned 11\n",
      "prod [9, 3, 11]\n",
      "add [540, 336, 297]\n",
      "literal returned 74474140\n",
      "add [74474140]\n",
      "literal returned 1433753563\n",
      "literal returned 2326495576\n",
      "literal returned 6850\n",
      "literal returned 2201270960\n",
      "literal returned 2\n",
      "add [1433753563, 2326495576, 6850, 2201270960, 2]\n",
      "literal returned 13\n",
      "literal returned 2\n",
      "literal returned 14\n",
      "add [13, 2, 14]\n",
      "literal returned 12\n",
      "literal returned 6\n",
      "literal returned 12\n",
      "add [12, 6, 12]\n",
      "gt [29, 30]\n",
      "literal returned 14099927\n",
      "prod [0, 14099927]\n",
      "literal returned 1874\n",
      "literal returned 1874\n",
      "lt [1874, 1874]\n",
      "literal returned 8\n",
      "prod [0, 8]\n",
      "literal returned 562841\n",
      "max [562841]\n",
      "add [562841]\n",
      "min [562841]\n",
      "min [562841]\n",
      "min [562841]\n",
      "max [562841]\n",
      "min [562841]\n",
      "max [562841]\n",
      "min [562841]\n",
      "max [562841]\n",
      "min [562841]\n",
      "add [562841]\n",
      "min [562841]\n",
      "add [562841]\n",
      "max [562841]\n",
      "max [562841]\n",
      "add [562841]\n",
      "add [562841]\n",
      "min [562841]\n",
      "prod [562841]\n",
      "literal returned 14\n",
      "literal returned 95\n",
      "literal returned 122\n",
      "literal returned 68\n",
      "prod [14, 95, 122, 68]\n",
      "literal returned 117\n",
      "literal returned 117\n",
      "gt [117, 117]\n",
      "literal returned 1826\n",
      "prod [0, 1826]\n",
      "literal returned 11997863\n",
      "literal returned 1181\n",
      "lt [11997863, 1181]\n",
      "literal returned 527987\n",
      "prod [0, 527987]\n",
      "literal returned 33162\n",
      "literal returned 2898\n",
      "literal returned 224\n",
      "literal returned 224\n",
      "lt [224, 224]\n",
      "prod [2898, 0]\n",
      "literal returned 12\n",
      "literal returned 191\n",
      "literal returned 5400124\n",
      "eq [191, 5400124]\n",
      "prod [12, 0]\n",
      "literal returned 56808\n",
      "literal returned 93937967\n",
      "literal returned 9\n",
      "max [56808, 93937967, 9]\n",
      "literal returned 7461\n",
      "literal returned 2848\n",
      "literal returned 149981\n",
      "lt [2848, 149981]\n",
      "literal returned 9253\n",
      "prod [1, 9253]\n",
      "literal returned 10\n",
      "literal returned 43980\n",
      "literal returned 371578\n",
      "gt [43980, 371578]\n",
      "literal returned 335755\n",
      "prod [0, 335755]\n",
      "add [382, 14, 68454822, 0, 0, 732272, 106, 11, 286428, 168, 3022, 62195100285, 67131138276, 10059492, 12987728, 145, 0, 39939, 12180, 14506238, 64900223938, 2601, 13, 236, 543976, 7, 1191, 6, 446688, 22348, 15, 198, 0, 0, 323506, 3, 1173, 74474140, 5961526951, 0, 0, 562841, 11033680, 0, 0, 33162, 0, 0, 93937967, 7461, 9253, 10, 0]\n"
     ]
    },
    {
     "data": {
      "text/plain": [
       "('0000000', 200476472872)"
      ]
     },
     "execution_count": 142,
     "metadata": {},
     "output_type": "execute_result"
    }
   ],
   "source": [
    "with open(\"input.txt\", 'r') as fp:\n",
    "    data = fp.readline().strip()\n",
    "mainparser(decode2bin(data))"
   ]
  },
  {
   "cell_type": "code",
   "execution_count": null,
   "metadata": {},
   "outputs": [],
   "source": []
  }
 ],
 "metadata": {
  "interpreter": {
   "hash": "ecc22ddafbb7680a410089353d25f05dc1cd64666e6afd042de696b9ecdc2135"
  },
  "kernelspec": {
   "display_name": "Python 3.9.7 64-bit ('py39': conda)",
   "language": "python",
   "name": "python3"
  },
  "language_info": {
   "codemirror_mode": {
    "name": "ipython",
    "version": 3
   },
   "file_extension": ".py",
   "mimetype": "text/x-python",
   "name": "python",
   "nbconvert_exporter": "python",
   "pygments_lexer": "ipython3",
   "version": "3.9.7"
  },
  "orig_nbformat": 4
 },
 "nbformat": 4,
 "nbformat_minor": 2
}
