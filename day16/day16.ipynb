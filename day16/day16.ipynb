{
 "cells": [
  {
   "cell_type": "code",
   "execution_count": 3,
   "metadata": {},
   "outputs": [],
   "source": [
    "import numpy as np"
   ]
  },
  {
   "cell_type": "code",
   "execution_count": 4,
   "metadata": {},
   "outputs": [],
   "source": [
    "def hex2bin(c):\n",
    "    return np.binary_repr(int(c, base=16), width=4)\n",
    "\n",
    "def decode2bin(s):\n",
    "    num = \"\"\n",
    "    for c in s:\n",
    "        num += hex2bin(c)\n",
    "    return num\n",
    "\n",
    "def pack(arr, wordsize=8):\n",
    "    npack = wordsize - len(arr)\n",
    "    return np.hstack([np.zeros(npack, dtype=int), arr])\n",
    "\n",
    "def pack8(arr):\n",
    "    return np.packbits(pack(arr, wordsize=8))[0]\n",
    "\n",
    "def pack16(arr):\n",
    "    bytearr = np.packbits(pack(arr, wordsize=16))\n",
    "    return 256 * bytearr[0] + bytearr[1]\n",
    "\n",
    "def arr2str(arr):\n",
    "    return ''.join([f\"{i}\" for i in arr])"
   ]
  },
  {
   "cell_type": "code",
   "execution_count": 6,
   "metadata": {},
   "outputs": [
    {
     "data": {
      "text/plain": [
       "'110100101111111000101000'"
      ]
     },
     "execution_count": 6,
     "metadata": {},
     "output_type": "execute_result"
    }
   ],
   "source": [
    "test_str = \"D2FE28\"\n",
    "decode2bin(test_str)"
   ]
  },
  {
   "cell_type": "code",
   "execution_count": 7,
   "metadata": {},
   "outputs": [
    {
     "data": {
      "text/plain": [
       "'00111000000000000110111101000101001010010001001000000000'"
      ]
     },
     "execution_count": 7,
     "metadata": {},
     "output_type": "execute_result"
    }
   ],
   "source": [
    "decode2bin(\"38006F45291200\")"
   ]
  },
  {
   "cell_type": "code",
   "execution_count": 124,
   "metadata": {},
   "outputs": [],
   "source": [
    "def mainparser(binstr):\n",
    "    versum = 0\n",
    "    if len(binstr) > 6:\n",
    "        ver = int(binstr[:3], base=2)\n",
    "        typ = int(binstr[3:6], base=2)\n",
    "        print(f\"ver = {ver}, typ = {typ}\")\n",
    "        versum += ver\n",
    "        binstr = binstr[6:]\n",
    "        if typ == 4:\n",
    "            binstr, val = literal(binstr)\n",
    "            print(f\"literal returned {val}\")\n",
    "        else:\n",
    "            if binstr[0] == \"0\":\n",
    "                subpacketlen = int(binstr[1:16], 2)\n",
    "                binstr = binstr[16:]\n",
    "                subpackets = binstr[:subpacketlen]\n",
    "                binstr = binstr[subpacketlen:]\n",
    "                subversum = 0\n",
    "                while True:\n",
    "                    v, subpackets = mainparser(subpackets)\n",
    "                    subversum += v\n",
    "                    if len(subpackets) < 6:\n",
    "                        break\n",
    "                versum += subversum\n",
    "            else:\n",
    "                subcount = int(binstr[1:12], base=2)\n",
    "                binstr = binstr[12:]\n",
    "                subversum = 0\n",
    "                for _ in range(subcount):\n",
    "                    v, binstr = mainparser(binstr)\n",
    "                    subversum += v\n",
    "                versum += subversum\n",
    "    return versum, binstr\n",
    "\n",
    "def literal(binstr):\n",
    "    chunks = []\n",
    "    chunking = True\n",
    "    while chunking:\n",
    "        chunks += [binstr[:5]]\n",
    "        binstr = binstr[5:]\n",
    "        if chunks[-1][0] == '0':\n",
    "            chunking = False\n",
    "    l = int(''.join([x[1:] for x in chunks]), 2)\n",
    "    return binstr, l"
   ]
  },
  {
   "cell_type": "code",
   "execution_count": 125,
   "metadata": {},
   "outputs": [
    {
     "name": "stdout",
     "output_type": "stream",
     "text": [
      "ver = 6, typ = 4\n",
      "literal returned 2021\n"
     ]
    },
    {
     "data": {
      "text/plain": [
       "(6, '000')"
      ]
     },
     "execution_count": 125,
     "metadata": {},
     "output_type": "execute_result"
    }
   ],
   "source": [
    "mainparser(decode2bin(test_str))"
   ]
  },
  {
   "cell_type": "code",
   "execution_count": 126,
   "metadata": {},
   "outputs": [
    {
     "name": "stdout",
     "output_type": "stream",
     "text": [
      "ver = 1, typ = 6\n",
      "ver = 6, typ = 4\n",
      "literal returned 10\n",
      "ver = 2, typ = 4\n",
      "literal returned 20\n"
     ]
    },
    {
     "data": {
      "text/plain": [
       "(9, '0000000')"
      ]
     },
     "execution_count": 126,
     "metadata": {},
     "output_type": "execute_result"
    }
   ],
   "source": [
    "mainparser(decode2bin(\"38006F45291200\"))"
   ]
  },
  {
   "cell_type": "code",
   "execution_count": 127,
   "metadata": {},
   "outputs": [
    {
     "name": "stdout",
     "output_type": "stream",
     "text": [
      "ver = 7, typ = 3\n",
      "ver = 2, typ = 4\n",
      "literal returned 1\n",
      "ver = 4, typ = 4\n",
      "literal returned 2\n",
      "ver = 1, typ = 4\n",
      "literal returned 3\n"
     ]
    },
    {
     "data": {
      "text/plain": [
       "(14, '00000')"
      ]
     },
     "execution_count": 127,
     "metadata": {},
     "output_type": "execute_result"
    }
   ],
   "source": [
    "mainparser(decode2bin(\"EE00D40C823060\"))"
   ]
  },
  {
   "cell_type": "code",
   "execution_count": 128,
   "metadata": {},
   "outputs": [
    {
     "name": "stdout",
     "output_type": "stream",
     "text": [
      "ver = 4, typ = 2\n",
      "ver = 1, typ = 2\n",
      "ver = 5, typ = 2\n",
      "ver = 6, typ = 4\n",
      "literal returned 15\n"
     ]
    },
    {
     "data": {
      "text/plain": [
       "(16, '000')"
      ]
     },
     "execution_count": 128,
     "metadata": {},
     "output_type": "execute_result"
    }
   ],
   "source": [
    "mainparser(decode2bin(\"8A004A801A8002F478\"))"
   ]
  },
  {
   "cell_type": "code",
   "execution_count": 129,
   "metadata": {},
   "outputs": [
    {
     "name": "stdout",
     "output_type": "stream",
     "text": [
      "ver = 3, typ = 0\n",
      "ver = 0, typ = 0\n",
      "ver = 0, typ = 4\n",
      "literal returned 10\n",
      "ver = 5, typ = 4\n",
      "literal returned 11\n",
      "ver = 1, typ = 0\n",
      "ver = 0, typ = 4\n",
      "literal returned 12\n",
      "ver = 3, typ = 4\n",
      "literal returned 13\n"
     ]
    },
    {
     "data": {
      "text/plain": [
       "(12, '00')"
      ]
     },
     "execution_count": 129,
     "metadata": {},
     "output_type": "execute_result"
    }
   ],
   "source": [
    "mainparser(decode2bin(\"620080001611562C8802118E34\"))"
   ]
  },
  {
   "cell_type": "code",
   "execution_count": 130,
   "metadata": {},
   "outputs": [
    {
     "name": "stdout",
     "output_type": "stream",
     "text": [
      "ver = 6, typ = 0\n",
      "ver = 0, typ = 0\n",
      "ver = 0, typ = 4\n",
      "literal returned 10\n",
      "ver = 6, typ = 4\n",
      "literal returned 11\n",
      "ver = 4, typ = 0\n",
      "ver = 7, typ = 4\n",
      "literal returned 12\n",
      "ver = 0, typ = 4\n",
      "literal returned 13\n"
     ]
    },
    {
     "data": {
      "text/plain": [
       "(23, '000000')"
      ]
     },
     "execution_count": 130,
     "metadata": {},
     "output_type": "execute_result"
    }
   ],
   "source": [
    "mainparser(decode2bin(\"C0015000016115A2E0802F182340\"))"
   ]
  },
  {
   "cell_type": "code",
   "execution_count": 131,
   "metadata": {},
   "outputs": [
    {
     "name": "stdout",
     "output_type": "stream",
     "text": [
      "ver = 5, typ = 0\n",
      "ver = 1, typ = 0\n",
      "ver = 3, typ = 0\n",
      "ver = 7, typ = 4\n",
      "literal returned 6\n",
      "ver = 6, typ = 4\n",
      "literal returned 6\n",
      "ver = 5, typ = 4\n",
      "literal returned 12\n",
      "ver = 2, typ = 4\n",
      "literal returned 15\n",
      "ver = 2, typ = 4\n",
      "literal returned 15\n"
     ]
    },
    {
     "data": {
      "text/plain": [
       "(31, '0000000')"
      ]
     },
     "execution_count": 131,
     "metadata": {},
     "output_type": "execute_result"
    }
   ],
   "source": [
    "mainparser(decode2bin(\"A0016C880162017C3686B18A3D4780\"))"
   ]
  },
  {
   "cell_type": "code",
   "execution_count": 132,
   "metadata": {},
   "outputs": [
    {
     "name": "stdout",
     "output_type": "stream",
     "text": [
      "ver = 1, typ = 0\n",
      "ver = 1, typ = 0\n",
      "ver = 2, typ = 4\n",
      "literal returned 206\n",
      "ver = 0, typ = 4\n",
      "literal returned 176\n",
      "ver = 4, typ = 4\n",
      "literal returned 14\n",
      "ver = 0, typ = 3\n",
      "ver = 0, typ = 4\n",
      "literal returned 12148392\n",
      "ver = 5, typ = 4\n",
      "literal returned 68454822\n",
      "ver = 6, typ = 1\n",
      "ver = 3, typ = 6\n",
      "ver = 3, typ = 4\n",
      "literal returned 2967250\n",
      "ver = 6, typ = 4\n",
      "literal returned 95\n",
      "ver = 7, typ = 4\n",
      "literal returned 1247339414\n",
      "ver = 6, typ = 1\n",
      "ver = 4, typ = 4\n",
      "literal returned 4731280\n",
      "ver = 1, typ = 7\n",
      "ver = 6, typ = 4\n",
      "literal returned 49792\n",
      "ver = 3, typ = 4\n",
      "literal returned 3454\n",
      "ver = 3, typ = 4\n",
      "literal returned 732272\n",
      "ver = 5, typ = 1\n",
      "ver = 7, typ = 5\n",
      "ver = 4, typ = 0\n",
      "ver = 5, typ = 4\n",
      "literal returned 10\n",
      "ver = 3, typ = 4\n",
      "literal returned 13\n",
      "ver = 1, typ = 4\n",
      "literal returned 6\n",
      "ver = 6, typ = 0\n",
      "ver = 3, typ = 4\n",
      "literal returned 2\n",
      "ver = 5, typ = 4\n",
      "literal returned 8\n",
      "ver = 1, typ = 4\n",
      "literal returned 11\n",
      "ver = 5, typ = 4\n",
      "literal returned 106\n",
      "ver = 3, typ = 2\n",
      "ver = 4, typ = 4\n",
      "literal returned 11\n",
      "ver = 1, typ = 4\n",
      "literal returned 11969338\n",
      "ver = 0, typ = 3\n",
      "ver = 2, typ = 4\n",
      "literal returned 286428\n",
      "ver = 2, typ = 4\n",
      "literal returned 168\n",
      "ver = 0, typ = 1\n",
      "ver = 7, typ = 5\n",
      "ver = 0, typ = 4\n",
      "literal returned 14637\n",
      "ver = 1, typ = 4\n",
      "literal returned 185\n",
      "ver = 6, typ = 4\n",
      "literal returned 3022\n",
      "ver = 4, typ = 0\n",
      "ver = 1, typ = 4\n",
      "literal returned 2501\n",
      "ver = 5, typ = 4\n",
      "literal returned 60221721728\n",
      "ver = 7, typ = 4\n",
      "literal returned 1973125485\n",
      "ver = 5, typ = 4\n",
      "literal returned 250571\n",
      "ver = 0, typ = 1\n",
      "ver = 5, typ = 4\n",
      "literal returned 114\n",
      "ver = 5, typ = 4\n",
      "literal returned 193\n",
      "ver = 7, typ = 4\n",
      "literal returned 157\n",
      "ver = 3, typ = 4\n",
      "literal returned 237\n",
      "ver = 1, typ = 4\n",
      "literal returned 82\n",
      "ver = 2, typ = 3\n",
      "ver = 0, typ = 4\n",
      "literal returned 5\n",
      "ver = 5, typ = 4\n",
      "literal returned 4\n",
      "ver = 6, typ = 4\n",
      "literal returned 10059492\n",
      "ver = 0, typ = 4\n",
      "literal returned 74\n",
      "ver = 6, typ = 2\n",
      "ver = 1, typ = 4\n",
      "literal returned 12987728\n",
      "ver = 0, typ = 1\n",
      "ver = 0, typ = 5\n",
      "ver = 0, typ = 4\n",
      "literal returned 61740865406\n",
      "ver = 6, typ = 4\n",
      "literal returned 142\n",
      "ver = 3, typ = 4\n",
      "literal returned 145\n",
      "ver = 2, typ = 1\n",
      "ver = 4, typ = 4\n",
      "literal returned 93130912385\n",
      "ver = 2, typ = 7\n",
      "ver = 3, typ = 0\n",
      "ver = 3, typ = 4\n",
      "literal returned 6\n",
      "ver = 2, typ = 4\n",
      "literal returned 10\n",
      "ver = 0, typ = 4\n",
      "literal returned 5\n",
      "ver = 5, typ = 0\n",
      "ver = 3, typ = 4\n",
      "literal returned 7\n",
      "ver = 3, typ = 4\n",
      "literal returned 13\n",
      "ver = 0, typ = 4\n",
      "literal returned 7\n",
      "ver = 5, typ = 1\n",
      "ver = 7, typ = 6\n",
      "ver = 5, typ = 0\n",
      "ver = 5, typ = 4\n",
      "literal returned 4\n",
      "ver = 6, typ = 4\n",
      "literal returned 7\n",
      "ver = 5, typ = 4\n",
      "literal returned 8\n",
      "ver = 4, typ = 0\n",
      "ver = 1, typ = 4\n",
      "literal returned 9\n",
      "ver = 4, typ = 4\n",
      "literal returned 11\n",
      "ver = 0, typ = 4\n",
      "literal returned 11\n",
      "ver = 2, typ = 4\n",
      "literal returned 39939\n",
      "ver = 0, typ = 1\n",
      "ver = 5, typ = 0\n",
      "ver = 4, typ = 4\n",
      "literal returned 5\n",
      "ver = 3, typ = 4\n",
      "literal returned 13\n",
      "ver = 6, typ = 4\n",
      "literal returned 12\n",
      "ver = 4, typ = 0\n",
      "ver = 2, typ = 4\n",
      "literal returned 6\n",
      "ver = 6, typ = 4\n",
      "literal returned 3\n",
      "ver = 2, typ = 4\n",
      "literal returned 5\n",
      "ver = 0, typ = 0\n",
      "ver = 6, typ = 4\n",
      "literal returned 12\n",
      "ver = 0, typ = 4\n",
      "literal returned 8\n",
      "ver = 1, typ = 4\n",
      "literal returned 9\n",
      "ver = 5, typ = 3\n",
      "ver = 6, typ = 4\n",
      "literal returned 108\n",
      "ver = 2, typ = 4\n",
      "literal returned 44401\n",
      "ver = 7, typ = 4\n",
      "literal returned 220\n",
      "ver = 7, typ = 4\n",
      "literal returned 14506238\n",
      "ver = 3, typ = 4\n",
      "literal returned 298953\n",
      "ver = 5, typ = 0\n",
      "ver = 7, typ = 4\n",
      "literal returned 55096\n",
      "ver = 1, typ = 4\n",
      "literal returned 16\n",
      "ver = 4, typ = 4\n",
      "literal returned 64900168826\n",
      "ver = 3, typ = 2\n",
      "ver = 4, typ = 4\n",
      "literal returned 2633\n",
      "ver = 7, typ = 4\n",
      "literal returned 2601\n",
      "ver = 7, typ = 4\n",
      "literal returned 184051\n",
      "ver = 2, typ = 2\n",
      "ver = 5, typ = 4\n",
      "literal returned 404698\n",
      "ver = 2, typ = 4\n",
      "literal returned 2110\n",
      "ver = 6, typ = 4\n",
      "literal returned 338037\n",
      "ver = 1, typ = 4\n",
      "literal returned 13\n",
      "ver = 4, typ = 1\n",
      "ver = 2, typ = 4\n",
      "literal returned 236\n",
      "ver = 2, typ = 4\n",
      "literal returned 543976\n",
      "ver = 2, typ = 2\n",
      "ver = 1, typ = 4\n",
      "literal returned 5923756\n",
      "ver = 3, typ = 4\n",
      "literal returned 203807\n",
      "ver = 3, typ = 4\n",
      "literal returned 733616\n",
      "ver = 2, typ = 4\n",
      "literal returned 7\n",
      "ver = 2, typ = 4\n",
      "literal returned 47338\n",
      "ver = 2, typ = 1\n",
      "ver = 3, typ = 4\n",
      "literal returned 1191\n",
      "ver = 2, typ = 6\n",
      "ver = 6, typ = 0\n",
      "ver = 5, typ = 4\n",
      "literal returned 3\n",
      "ver = 6, typ = 4\n",
      "literal returned 10\n",
      "ver = 0, typ = 4\n",
      "literal returned 6\n",
      "ver = 0, typ = 0\n",
      "ver = 1, typ = 4\n",
      "literal returned 5\n",
      "ver = 1, typ = 4\n",
      "literal returned 11\n",
      "ver = 2, typ = 4\n",
      "literal returned 13\n",
      "ver = 3, typ = 4\n",
      "literal returned 6\n",
      "ver = 6, typ = 1\n",
      "ver = 7, typ = 4\n",
      "literal returned 144\n",
      "ver = 5, typ = 4\n",
      "literal returned 22\n",
      "ver = 5, typ = 4\n",
      "literal returned 141\n",
      "ver = 1, typ = 1\n",
      "ver = 2, typ = 4\n",
      "literal returned 151\n",
      "ver = 6, typ = 4\n",
      "literal returned 148\n",
      "ver = 0, typ = 4\n",
      "literal returned 15\n",
      "ver = 6, typ = 1\n",
      "ver = 2, typ = 7\n",
      "ver = 7, typ = 4\n",
      "literal returned 79\n",
      "ver = 2, typ = 4\n",
      "literal returned 79\n",
      "ver = 3, typ = 4\n",
      "literal returned 198\n",
      "ver = 0, typ = 1\n",
      "ver = 1, typ = 4\n",
      "literal returned 16784\n",
      "ver = 2, typ = 5\n",
      "ver = 2, typ = 4\n",
      "literal returned 146\n",
      "ver = 3, typ = 4\n",
      "literal returned 146\n",
      "ver = 1, typ = 1\n",
      "ver = 6, typ = 5\n",
      "ver = 6, typ = 4\n",
      "literal returned 1925\n",
      "ver = 1, typ = 4\n",
      "literal returned 2971\n",
      "ver = 7, typ = 4\n",
      "literal returned 2346206\n",
      "ver = 4, typ = 1\n",
      "ver = 4, typ = 4\n",
      "literal returned 323506\n",
      "ver = 6, typ = 6\n",
      "ver = 7, typ = 4\n",
      "literal returned 1\n",
      "ver = 5, typ = 4\n",
      "literal returned 193\n",
      "ver = 4, typ = 4\n",
      "literal returned 3\n",
      "ver = 6, typ = 0\n",
      "ver = 4, typ = 1\n",
      "ver = 2, typ = 4\n",
      "literal returned 9\n",
      "ver = 1, typ = 4\n",
      "literal returned 6\n",
      "ver = 3, typ = 4\n",
      "literal returned 10\n",
      "ver = 7, typ = 1\n",
      "ver = 2, typ = 4\n",
      "literal returned 8\n",
      "ver = 5, typ = 4\n",
      "literal returned 7\n",
      "ver = 3, typ = 4\n",
      "literal returned 6\n",
      "ver = 7, typ = 1\n",
      "ver = 1, typ = 4\n",
      "literal returned 9\n",
      "ver = 6, typ = 4\n",
      "literal returned 3\n",
      "ver = 0, typ = 4\n",
      "literal returned 11\n",
      "ver = 0, typ = 0\n",
      "ver = 2, typ = 4\n",
      "literal returned 74474140\n",
      "ver = 5, typ = 0\n",
      "ver = 0, typ = 4\n",
      "literal returned 1433753563\n",
      "ver = 2, typ = 4\n",
      "literal returned 2326495576\n",
      "ver = 1, typ = 4\n",
      "literal returned 6850\n",
      "ver = 5, typ = 4\n",
      "literal returned 2201270960\n",
      "ver = 7, typ = 4\n",
      "literal returned 2\n",
      "ver = 3, typ = 1\n",
      "ver = 1, typ = 5\n",
      "ver = 1, typ = 0\n",
      "ver = 2, typ = 4\n",
      "literal returned 13\n",
      "ver = 6, typ = 4\n",
      "literal returned 2\n",
      "ver = 4, typ = 4\n",
      "literal returned 14\n",
      "ver = 1, typ = 0\n",
      "ver = 2, typ = 4\n",
      "literal returned 12\n",
      "ver = 7, typ = 4\n",
      "literal returned 6\n",
      "ver = 3, typ = 4\n",
      "literal returned 12\n",
      "ver = 7, typ = 4\n",
      "literal returned 14099927\n",
      "ver = 7, typ = 1\n",
      "ver = 5, typ = 6\n",
      "ver = 6, typ = 4\n",
      "literal returned 1874\n",
      "ver = 2, typ = 4\n",
      "literal returned 1874\n",
      "ver = 6, typ = 4\n",
      "literal returned 8\n",
      "ver = 3, typ = 1\n",
      "ver = 3, typ = 2\n",
      "ver = 2, typ = 0\n",
      "ver = 6, typ = 0\n",
      "ver = 5, typ = 3\n",
      "ver = 5, typ = 3\n",
      "ver = 4, typ = 0\n",
      "ver = 6, typ = 2\n",
      "ver = 1, typ = 0\n",
      "ver = 1, typ = 2\n",
      "ver = 1, typ = 3\n",
      "ver = 0, typ = 2\n",
      "ver = 5, typ = 3\n",
      "ver = 2, typ = 2\n",
      "ver = 3, typ = 3\n",
      "ver = 3, typ = 2\n",
      "ver = 4, typ = 2\n",
      "ver = 7, typ = 2\n",
      "ver = 2, typ = 0\n",
      "ver = 1, typ = 3\n",
      "ver = 0, typ = 4\n",
      "literal returned 562841\n",
      "ver = 1, typ = 1\n",
      "ver = 3, typ = 4\n",
      "literal returned 14\n",
      "ver = 5, typ = 4\n",
      "literal returned 95\n",
      "ver = 0, typ = 4\n",
      "literal returned 122\n",
      "ver = 1, typ = 4\n",
      "literal returned 68\n",
      "ver = 2, typ = 1\n",
      "ver = 2, typ = 5\n",
      "ver = 4, typ = 4\n",
      "literal returned 117\n",
      "ver = 3, typ = 4\n",
      "literal returned 117\n",
      "ver = 6, typ = 4\n",
      "literal returned 1826\n",
      "ver = 4, typ = 1\n",
      "ver = 7, typ = 6\n",
      "ver = 4, typ = 4\n",
      "literal returned 11997863\n",
      "ver = 1, typ = 4\n",
      "literal returned 1181\n",
      "ver = 6, typ = 4\n",
      "literal returned 527987\n",
      "ver = 7, typ = 4\n",
      "literal returned 33162\n",
      "ver = 2, typ = 1\n",
      "ver = 6, typ = 4\n",
      "literal returned 2898\n",
      "ver = 7, typ = 6\n",
      "ver = 7, typ = 4\n",
      "literal returned 224\n",
      "ver = 2, typ = 4\n",
      "literal returned 224\n",
      "ver = 2, typ = 1\n",
      "ver = 7, typ = 4\n",
      "literal returned 12\n",
      "ver = 0, typ = 7\n",
      "ver = 1, typ = 4\n",
      "literal returned 191\n",
      "ver = 4, typ = 4\n",
      "literal returned 5400124\n",
      "ver = 7, typ = 3\n",
      "ver = 0, typ = 4\n",
      "literal returned 56808\n",
      "ver = 7, typ = 4\n",
      "literal returned 93937967\n",
      "ver = 5, typ = 4\n",
      "literal returned 9\n",
      "ver = 0, typ = 4\n",
      "literal returned 7461\n",
      "ver = 2, typ = 1\n",
      "ver = 1, typ = 6\n",
      "ver = 7, typ = 4\n",
      "literal returned 2848\n",
      "ver = 1, typ = 4\n",
      "literal returned 149981\n",
      "ver = 4, typ = 4\n",
      "literal returned 9253\n",
      "ver = 6, typ = 4\n",
      "literal returned 10\n",
      "ver = 4, typ = 1\n",
      "ver = 3, typ = 5\n",
      "ver = 1, typ = 4\n",
      "literal returned 43980\n",
      "ver = 0, typ = 4\n",
      "literal returned 371578\n",
      "ver = 5, typ = 4\n",
      "literal returned 335755\n"
     ]
    },
    {
     "data": {
      "text/plain": [
       "(904, '0000000')"
      ]
     },
     "execution_count": 132,
     "metadata": {},
     "output_type": "execute_result"
    }
   ],
   "source": [
    "with open(\"input.txt\", 'r') as fp:\n",
    "    data = fp.readline().strip()\n",
    "mainparser(decode2bin(data))"
   ]
  },
  {
   "cell_type": "code",
   "execution_count": null,
   "metadata": {},
   "outputs": [],
   "source": []
  }
 ],
 "metadata": {
  "interpreter": {
   "hash": "ecc22ddafbb7680a410089353d25f05dc1cd64666e6afd042de696b9ecdc2135"
  },
  "kernelspec": {
   "display_name": "Python 3.9.7 64-bit ('py39': conda)",
   "language": "python",
   "name": "python3"
  },
  "language_info": {
   "codemirror_mode": {
    "name": "ipython",
    "version": 3
   },
   "file_extension": ".py",
   "mimetype": "text/x-python",
   "name": "python",
   "nbconvert_exporter": "python",
   "pygments_lexer": "ipython3",
   "version": "3.9.7"
  },
  "orig_nbformat": 4
 },
 "nbformat": 4,
 "nbformat_minor": 2
}
