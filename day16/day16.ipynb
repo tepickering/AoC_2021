{
 "cells": [
  {
   "cell_type": "code",
   "execution_count": 1,
   "metadata": {},
   "outputs": [],
   "source": [
    "import numpy as np"
   ]
  },
  {
   "cell_type": "code",
   "execution_count": 16,
   "metadata": {},
   "outputs": [],
   "source": [
    "def hex2bin(c):\n",
    "    return np.binary_repr(int(c, base=16), width=4)"
   ]
  },
  {
   "cell_type": "code",
   "execution_count": 18,
   "metadata": {},
   "outputs": [],
   "source": [
    "def decode2bin(s):\n",
    "    num = \"\"\n",
    "    for c in s:\n",
    "        num += hex2bin(c)\n",
    "    return num"
   ]
  },
  {
   "cell_type": "code",
   "execution_count": 21,
   "metadata": {},
   "outputs": [
    {
     "data": {
      "text/plain": [
       "'110100101111111000101000'"
      ]
     },
     "execution_count": 21,
     "metadata": {},
     "output_type": "execute_result"
    }
   ],
   "source": [
    "test_str = \"D2FE28\"\n",
    "decode2bin(test_str)"
   ]
  },
  {
   "cell_type": "code",
   "execution_count": 20,
   "metadata": {},
   "outputs": [
    {
     "data": {
      "text/plain": [
       "'00111000000000000110111101000101001010010001001000000000'"
      ]
     },
     "execution_count": 20,
     "metadata": {},
     "output_type": "execute_result"
    }
   ],
   "source": [
    "decode2bin(\"38006F45291200\")"
   ]
  },
  {
   "cell_type": "code",
   "execution_count": 104,
   "metadata": {},
   "outputs": [],
   "source": [
    "\n",
    "def pack(arr, wordsize=8):\n",
    "    npack = wordsize - len(arr)\n",
    "    return np.hstack([np.zeros(npack, dtype=int), arr])\n",
    "\n",
    "def pack8(arr):\n",
    "    return pack(arr, wordsize=8)\n",
    "\n",
    "def pack16(arr):\n",
    "    return pack(arr, wordsize=16)\n",
    "\n",
    "def parse_code(code_str):\n",
    "    bit_arr = np.array([int(c) for c in code_str])\n",
    "    ver_bits = pack8(bit_arr[0:3])\n",
    "    ver = np.packbits(ver_bits)\n",
    "    typ_bits = pack8(bit_arr[3:6])\n",
    "    typ = np.packbits(typ_bits)\n",
    "    if typ == 4:\n",
    "        print(\"literal case\")\n",
    "        start = 6\n",
    "        flag = bit_arr[start]\n",
    "        num_bits = []\n",
    "        while flag:\n",
    "            flag = bit_arr[start]\n",
    "            num_bits.append(bit_arr[start+1:start+5])\n",
    "            start += 5\n",
    "            \n",
    "        num_bits = np.hstack(num_bits)\n",
    "        val = np.packbits(pack(num_bits, wordsize=16))\n",
    "        num = 256 * val[0] + val[1]\n",
    "\n",
    "    return ver[0], typ[0], num"
   ]
  },
  {
   "cell_type": "code",
   "execution_count": 105,
   "metadata": {},
   "outputs": [
    {
     "name": "stdout",
     "output_type": "stream",
     "text": [
      "literal case\n",
      "[0 0 0 0 0 1 1 1 1 1 1 0 0 1 0 1]\n"
     ]
    },
    {
     "data": {
      "text/plain": [
       "(6, 4, 2021)"
      ]
     },
     "execution_count": 105,
     "metadata": {},
     "output_type": "execute_result"
    }
   ],
   "source": [
    "parse_code(decode2bin(test_str))"
   ]
  },
  {
   "cell_type": "code",
   "execution_count": 101,
   "metadata": {},
   "outputs": [
    {
     "data": {
      "text/plain": [
       "2021"
      ]
     },
     "execution_count": 101,
     "metadata": {},
     "output_type": "execute_result"
    }
   ],
   "source": [
    "7 * 256 + 229"
   ]
  },
  {
   "cell_type": "code",
   "execution_count": null,
   "metadata": {},
   "outputs": [],
   "source": []
  }
 ],
 "metadata": {
  "interpreter": {
   "hash": "ecc22ddafbb7680a410089353d25f05dc1cd64666e6afd042de696b9ecdc2135"
  },
  "kernelspec": {
   "display_name": "Python 3.9.7 64-bit ('py39': conda)",
   "language": "python",
   "name": "python3"
  },
  "language_info": {
   "codemirror_mode": {
    "name": "ipython",
    "version": 3
   },
   "file_extension": ".py",
   "mimetype": "text/x-python",
   "name": "python",
   "nbconvert_exporter": "python",
   "pygments_lexer": "ipython3",
   "version": "3.9.7"
  },
  "orig_nbformat": 4
 },
 "nbformat": 4,
 "nbformat_minor": 2
}
