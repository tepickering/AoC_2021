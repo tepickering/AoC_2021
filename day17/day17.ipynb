{
 "cells": [
  {
   "cell_type": "code",
   "execution_count": 53,
   "metadata": {},
   "outputs": [],
   "source": [
    "import numpy as np\n",
    "from scipy.optimize import newton"
   ]
  },
  {
   "cell_type": "code",
   "execution_count": 71,
   "metadata": {},
   "outputs": [
    {
     "data": {
      "text/plain": [
       "155"
      ]
     },
     "execution_count": 71,
     "metadata": {},
     "output_type": "execute_result"
    }
   ],
   "source": [
    "solve_x = np.array(range(135, 156))\n",
    "solve_y = np.array(range(-102, -77))\n",
    "solve_x.max()"
   ]
  },
  {
   "cell_type": "code",
   "execution_count": 1,
   "metadata": {},
   "outputs": [],
   "source": [
    "grav = -1  # change in y vel per step\n",
    "\n",
    "def drag(xvel):  # change in x vel per step\n",
    "    if xvel < 0:\n",
    "        return 1\n",
    "    elif xvel > 0:\n",
    "        return -1\n",
    "    else:\n",
    "        return 0"
   ]
  },
  {
   "cell_type": "code",
   "execution_count": 2,
   "metadata": {},
   "outputs": [],
   "source": [
    "def motion(x, y, xvel, yvel):\n",
    "    x += xvel\n",
    "    y += yvel\n",
    "    yvel += grav\n",
    "    xvel += drag(xvel)\n",
    "    return x, y, xvel, yvel"
   ]
  },
  {
   "cell_type": "code",
   "execution_count": 3,
   "metadata": {},
   "outputs": [
    {
     "data": {
      "text/plain": [
       "'\\nax = -sign(vx)\\nvx = vx0 + int_0^t ax dt\\nvx = vx0 - int_0^t sign(vx) dt\\n\\nay = -1\\ndy/dt = yvel - t\\n\\nx(t) = x0 + xvel * t + (xvel + sign(xvel) * t) * t\\ny(t) = y0 + yvel * t + (yvel - t) * t\\n'"
      ]
     },
     "execution_count": 3,
     "metadata": {},
     "output_type": "execute_result"
    }
   ],
   "source": [
    "\"\"\"\n",
    "ax = -sign(vx)\n",
    "vx = vx0 + int_0^t ax dt\n",
    "vx = vx0 - int_0^t sign(vx) dt\n",
    "\n",
    "ay = -1\n",
    "dy/dt = yvel - t\n",
    "\n",
    "x(t) = x0 + xvel * t + (xvel + sign(xvel) * t) * t\n",
    "y(t) = y0 + yvel * t - 1/2 t**2\n",
    "\"\"\""
   ]
  },
  {
   "cell_type": "code",
   "execution_count": 4,
   "metadata": {},
   "outputs": [
    {
     "name": "stdout",
     "output_type": "stream",
     "text": [
      "6 3 5 2\n",
      "11 5 4 1\n",
      "15 6 3 0\n",
      "18 6 2 -1\n",
      "20 5 1 -2\n",
      "21 3 0 -3\n",
      "21 0 0 -4\n",
      "21 -4 0 -5\n",
      "21 -9 0 -6\n",
      "21 -15 0 -7\n"
     ]
    }
   ],
   "source": [
    "x, y, xvel, yvel = 0, 0, 6, 3\n",
    "for t in range(10):\n",
    "    x, y, xvel, yvel = motion(x, y, xvel, yvel)\n",
    "    print(x, y, xvel, yvel)"
   ]
  },
  {
   "cell_type": "code",
   "execution_count": 30,
   "metadata": {},
   "outputs": [],
   "source": [
    "target_x = np.array(range(20, 31))\n",
    "target_y = np.array(range(-10, -4))\n",
    "    "
   ]
  },
  {
   "cell_type": "code",
   "execution_count": 33,
   "metadata": {},
   "outputs": [
    {
     "name": "stdout",
     "output_type": "stream",
     "text": [
      "good shot! 6 0\n",
      "good shot! 6 1\n",
      "good shot! 6 2\n",
      "good shot! 6 3\n",
      "good shot! 6 4\n",
      "good shot! 6 5\n",
      "good shot! 6 6\n",
      "good shot! 6 7\n",
      "good shot! 6 8\n",
      "good shot! 6 9\n",
      "good shot! 7 0\n",
      "good shot! 7 1\n",
      "good shot! 7 2\n",
      "good shot! 7 3\n",
      "good shot! 7 4\n",
      "good shot! 7 5\n",
      "good shot! 7 6\n",
      "good shot! 7 7\n",
      "good shot! 7 8\n",
      "good shot! 7 9\n",
      "good shot! 8 0\n",
      "good shot! 8 1\n",
      "good shot! 9 0\n"
     ]
    }
   ],
   "source": [
    "good_shots = []\n",
    "t = range(1000)\n",
    "for xv in range(100):\n",
    "    for yv in range(100):\n",
    "        x, y, xvel, yvel = 0, 0, xv, yv\n",
    "        for _ in t:\n",
    "            x, y, xvel, yvel = motion(x, y, xvel, yvel)\n",
    "            if x in target_x and y in target_y:\n",
    "                print(f\"good shot! {xv} {yv}\")\n",
    "                good_shots.append([xv, yv])\n",
    "                break\n",
    "            if x > target_x[-1] and y < target_y[0]:\n",
    "                break"
   ]
  },
  {
   "cell_type": "code",
   "execution_count": 34,
   "metadata": {},
   "outputs": [
    {
     "data": {
      "text/plain": [
       "[[6, 0],\n",
       " [6, 1],\n",
       " [6, 2],\n",
       " [6, 3],\n",
       " [6, 4],\n",
       " [6, 5],\n",
       " [6, 6],\n",
       " [6, 7],\n",
       " [6, 8],\n",
       " [6, 9],\n",
       " [7, 0],\n",
       " [7, 1],\n",
       " [7, 2],\n",
       " [7, 3],\n",
       " [7, 4],\n",
       " [7, 5],\n",
       " [7, 6],\n",
       " [7, 7],\n",
       " [7, 8],\n",
       " [7, 9],\n",
       " [8, 0],\n",
       " [8, 1],\n",
       " [9, 0]]"
      ]
     },
     "execution_count": 34,
     "metadata": {},
     "output_type": "execute_result"
    }
   ],
   "source": [
    "good_shots"
   ]
  },
  {
   "cell_type": "code",
   "execution_count": 42,
   "metadata": {},
   "outputs": [],
   "source": [
    "y_max = target_y.min()\n",
    "max_at = None\n",
    "for xv, yv in good_shots:\n",
    "    x, y, xvel, yvel = 0, 0, xv, yv\n",
    "    for _ in t:\n",
    "        x, y, xvel, yvel = motion(x, y, xvel, yvel)\n",
    "        if y > y_max:\n",
    "            y_max = y\n",
    "            max_at = xv, yv\n",
    "        if x > target_x[-1] and y < target_y[0]:\n",
    "            break"
   ]
  },
  {
   "cell_type": "code",
   "execution_count": 43,
   "metadata": {},
   "outputs": [
    {
     "data": {
      "text/plain": [
       "(45, (6, 9))"
      ]
     },
     "execution_count": 43,
     "metadata": {},
     "output_type": "execute_result"
    }
   ],
   "source": [
    "y_max, max_at"
   ]
  },
  {
   "cell_type": "code",
   "execution_count": 72,
   "metadata": {},
   "outputs": [],
   "source": [
    "slv_good_shots = []\n",
    "t = range(1000)\n",
    "for xv in range(0, 500):\n",
    "    for yv in range(solve_y[0], 500):\n",
    "        x, y, xvel, yvel = 0, 0, xv, yv\n",
    "        for _ in t:\n",
    "            x, y, xvel, yvel = motion(x, y, xvel, yvel)\n",
    "            if x in solve_x and y in solve_y:\n",
    "                #print(f\"good shot! {xv} {yv}\")\n",
    "                slv_good_shots.append([xv, yv])\n",
    "                break\n",
    "            if x > solve_x[-1] and y < solve_y[0]:\n",
    "                break\n",
    "            if xvel == 0 and (y < target_y[0] or x < target_x[0]):\n",
    "                break"
   ]
  },
  {
   "cell_type": "code",
   "execution_count": 73,
   "metadata": {},
   "outputs": [
    {
     "data": {
      "text/plain": [
       "(5151, (16, 101))"
      ]
     },
     "execution_count": 73,
     "metadata": {},
     "output_type": "execute_result"
    }
   ],
   "source": [
    "y_max = solve_y.min()\n",
    "max_at = None\n",
    "for xv, yv in slv_good_shots:\n",
    "    x, y, xvel, yvel = 0, 0, xv, yv\n",
    "    for _ in t:\n",
    "        x, y, xvel, yvel = motion(x, y, xvel, yvel)\n",
    "        if y > y_max:\n",
    "            y_max = y\n",
    "            max_at = xv, yv\n",
    "        if x > solve_x[-1] or y < solve_y[0]:\n",
    "            break\n",
    "\n",
    "y_max, max_at"
   ]
  },
  {
   "cell_type": "code",
   "execution_count": 74,
   "metadata": {},
   "outputs": [
    {
     "data": {
      "text/plain": [
       "885"
      ]
     },
     "execution_count": 74,
     "metadata": {},
     "output_type": "execute_result"
    }
   ],
   "source": [
    "len(slv_good_shots)"
   ]
  },
  {
   "cell_type": "code",
   "execution_count": 77,
   "metadata": {},
   "outputs": [
    {
     "data": {
      "text/plain": [
       "968"
      ]
     },
     "execution_count": 77,
     "metadata": {},
     "output_type": "execute_result"
    }
   ],
   "source": [
    "t = range(1000)\n",
    "ngood = 0\n",
    "for xv in range(0, 500):\n",
    "    for yv in range(-102, 500):\n",
    "        x, y, xvel, yvel = 0, 0, xv, yv\n",
    "        for _ in t:\n",
    "            x, y, xvel, yvel = motion(x, y, xvel, yvel)\n",
    "            if x in solve_x and y in solve_y:\n",
    "                #print(f\"good shot! {xv} {yv}\")\n",
    "                ngood += 1\n",
    "                break\n",
    "            if x > solve_x[-1] and y < solve_y[0]:\n",
    "                break\n",
    "            if xvel == 0 and (y < solve_y[0] or x < solve_x[0]):\n",
    "                break\n",
    "ngood"
   ]
  },
  {
   "cell_type": "code",
   "execution_count": null,
   "metadata": {},
   "outputs": [],
   "source": []
  }
 ],
 "metadata": {
  "interpreter": {
   "hash": "ecc22ddafbb7680a410089353d25f05dc1cd64666e6afd042de696b9ecdc2135"
  },
  "kernelspec": {
   "display_name": "Python 3.9.7 64-bit ('py39': conda)",
   "language": "python",
   "name": "python3"
  },
  "language_info": {
   "codemirror_mode": {
    "name": "ipython",
    "version": 3
   },
   "file_extension": ".py",
   "mimetype": "text/x-python",
   "name": "python",
   "nbconvert_exporter": "python",
   "pygments_lexer": "ipython3",
   "version": "3.9.7"
  },
  "orig_nbformat": 4
 },
 "nbformat": 4,
 "nbformat_minor": 2
}
