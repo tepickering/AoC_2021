{
 "cells": [
  {
   "cell_type": "code",
   "execution_count": 17,
   "metadata": {},
   "outputs": [],
   "source": [
    "import json\n",
    "from functools import reduce"
   ]
  },
  {
   "cell_type": "code",
   "execution_count": 2,
   "metadata": {},
   "outputs": [
    {
     "data": {
      "text/plain": [
       "[[1, 2], 3]"
      ]
     },
     "execution_count": 2,
     "metadata": {},
     "output_type": "execute_result"
    }
   ],
   "source": [
    "json.loads(\"[[1,2],3]\")"
   ]
  },
  {
   "cell_type": "code",
   "execution_count": 3,
   "metadata": {},
   "outputs": [],
   "source": [
    "test_explode = json.loads(\"[[[[[9,8],1],2],3],4]\")"
   ]
  },
  {
   "cell_type": "code",
   "execution_count": 4,
   "metadata": {},
   "outputs": [
    {
     "data": {
      "text/plain": [
       "[[[[[9, 8], 1], 2], 3], 4]"
      ]
     },
     "execution_count": 4,
     "metadata": {},
     "output_type": "execute_result"
    }
   ],
   "source": [
    "test_explode"
   ]
  },
  {
   "cell_type": "code",
   "execution_count": 11,
   "metadata": {},
   "outputs": [],
   "source": [
    "def explode(n, level=0):\n",
    "    if not isinstance(n, int):\n",
    "        l, r = n\n",
    "        if level >= 4:\n",
    "            return 0, True, l, r\n",
    "        else:\n",
    "            l, reduced, expl, expr = explode(l, level + 1)\n",
    "            if reduced:\n",
    "                if expr != 0:\n",
    "                    r = add_left(r, expr)\n",
    "                    expr = 0\n",
    "            else:\n",
    "                r, reduced, expl, expr = explode(r, level + 1)\n",
    "                if reduced:\n",
    "                    if expl != 0:\n",
    "                        l = add_right(l, expl)\n",
    "                        expl = 0\n",
    "            if reduced:\n",
    "                return (l, r), True, expl, expr\n",
    "    return n, False, 0, 0\n",
    "\n",
    "def add_left(n, m):\n",
    "    if isinstance(n, int):\n",
    "        return n + m\n",
    "    else:\n",
    "        a, b = n\n",
    "        return add_left(a, m), b\n",
    "\n",
    "def add_right(n, m):\n",
    "    if isinstance(n, int):\n",
    "        return n + m\n",
    "    else:\n",
    "        a, b = n\n",
    "        return a, add_right(b, m)\n",
    "\n",
    "def splat(n):\n",
    "    if isinstance(n, int):\n",
    "        if n > 9:\n",
    "            a = n // 2\n",
    "            return (a, n - a), True\n",
    "    else:\n",
    "        l, r = n\n",
    "        l, reduced = splat(l)\n",
    "        if not reduced:\n",
    "            r, reduced = splat(r)\n",
    "        if reduced:\n",
    "            return (l, r), True\n",
    "    return n, False\n",
    "\n",
    "def mag(n):\n",
    "    if isinstance(n, int):\n",
    "        return n\n",
    "    l, r = n\n",
    "    return 3 * mag(l) + 2 * mag(r)\n",
    "\n",
    "def fish_reduce(n):\n",
    "    reduced = True\n",
    "    while reduced:\n",
    "        n, reduced, *_ = explode(n, 0)\n",
    "        if not reduced:\n",
    "            n, reduced = splat(n)\n",
    "    return n\n",
    "\n",
    "def add_fish(a, b):\n",
    "    return fish_reduce((a, b))"
   ]
  },
  {
   "cell_type": "code",
   "execution_count": 9,
   "metadata": {},
   "outputs": [
    {
     "data": {
      "text/plain": [
       "(((((0, 9), 2), 3), 4), True, 9, 0)"
      ]
     },
     "execution_count": 9,
     "metadata": {},
     "output_type": "execute_result"
    }
   ],
   "source": [
    "explode(test_explode)"
   ]
  },
  {
   "cell_type": "code",
   "execution_count": 12,
   "metadata": {},
   "outputs": [
    {
     "data": {
      "text/plain": [
       "((((0, 7), 4), ((7, 8), (6, 0))), (8, 1))"
      ]
     },
     "execution_count": 12,
     "metadata": {},
     "output_type": "execute_result"
    }
   ],
   "source": [
    "add_fish(json.loads(\"[[[[4,3],4],4],[7,[[8,4],9]]]\"), (1, 1))"
   ]
  },
  {
   "cell_type": "code",
   "execution_count": 13,
   "metadata": {},
   "outputs": [],
   "source": [
    "def load_data(datafile):\n",
    "    fish = []\n",
    "    with open(datafile, 'r') as fp:\n",
    "        for l in fp.readlines():\n",
    "            fish.append(json.loads(l.strip()))\n",
    "    return fish"
   ]
  },
  {
   "cell_type": "code",
   "execution_count": 15,
   "metadata": {},
   "outputs": [
    {
     "data": {
      "text/plain": [
       "[[[[4, 2], 2], 6], [8, 7]]"
      ]
     },
     "execution_count": 15,
     "metadata": {},
     "output_type": "execute_result"
    }
   ],
   "source": [
    "load_data(\"test.txt\")"
   ]
  },
  {
   "cell_type": "code",
   "execution_count": 22,
   "metadata": {},
   "outputs": [
    {
     "data": {
      "text/plain": [
       "((((6, 6), (7, 6)), ((7, 7), (7, 0))), (((7, 7), (7, 7)), ((7, 8), (9, 9))))"
      ]
     },
     "execution_count": 22,
     "metadata": {},
     "output_type": "execute_result"
    }
   ],
   "source": [
    "fish_numbers = load_data(\"test2.txt\")\n",
    "fish_numbers = map(fish_reduce, fish_numbers)\n",
    "result = reduce(add_fish, fish_numbers)\n",
    "result"
   ]
  },
  {
   "cell_type": "code",
   "execution_count": 23,
   "metadata": {},
   "outputs": [
    {
     "data": {
      "text/plain": [
       "4140"
      ]
     },
     "execution_count": 23,
     "metadata": {},
     "output_type": "execute_result"
    }
   ],
   "source": [
    "mag(result)"
   ]
  },
  {
   "cell_type": "code",
   "execution_count": 26,
   "metadata": {},
   "outputs": [
    {
     "data": {
      "text/plain": [
       "4563"
      ]
     },
     "execution_count": 26,
     "metadata": {},
     "output_type": "execute_result"
    }
   ],
   "source": [
    "fish_numbers = load_data(\"input.txt\")\n",
    "fish_numbers = map(fish_reduce, fish_numbers)\n",
    "fish_list = list(fish_numbers)\n",
    "max_mag = -1e6\n",
    "for i, ni in enumerate(fish_list):\n",
    "    for j, nj in enumerate(fish_list):\n",
    "        if i == j:\n",
    "            continue\n",
    "        m = mag(add_fish(ni, nj))\n",
    "        if m > max_mag:\n",
    "            max_mag = m\n",
    "max_mag"
   ]
  },
  {
   "cell_type": "code",
   "execution_count": null,
   "metadata": {},
   "outputs": [],
   "source": []
  }
 ],
 "metadata": {
  "interpreter": {
   "hash": "ecc22ddafbb7680a410089353d25f05dc1cd64666e6afd042de696b9ecdc2135"
  },
  "kernelspec": {
   "display_name": "Python 3.9.7 64-bit ('py39': conda)",
   "language": "python",
   "name": "python3"
  },
  "language_info": {
   "codemirror_mode": {
    "name": "ipython",
    "version": 3
   },
   "file_extension": ".py",
   "mimetype": "text/x-python",
   "name": "python",
   "nbconvert_exporter": "python",
   "pygments_lexer": "ipython3",
   "version": "3.9.7"
  },
  "orig_nbformat": 4
 },
 "nbformat": 4,
 "nbformat_minor": 2
}
