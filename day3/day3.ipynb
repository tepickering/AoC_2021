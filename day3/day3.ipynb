{
 "cells": [
  {
   "cell_type": "code",
   "execution_count": 9,
   "metadata": {},
   "outputs": [],
   "source": [
    "import numpy as np"
   ]
  },
  {
   "cell_type": "code",
   "execution_count": 318,
   "metadata": {},
   "outputs": [],
   "source": [
    "def binlist2num(l):\n",
    "    num = int(bin(int(''.join(map(str, l)), 2)), 2)\n",
    "    return num\n",
    "\n",
    "def load_data(datafile):\n",
    "    arr = []\n",
    "    with open(datafile, 'r') as fp:\n",
    "        for l in fp.readlines():\n",
    "            row = np.array(list(l.strip()), dtype=int)\n",
    "            arr.append(row)\n",
    "    arr = np.array(arr)\n",
    "    return arr\n",
    "\n",
    "def power_consumption(datafile):\n",
    "    arr = load_data(datafile)\n",
    "    sbin = [np.bincount(arr[:, i]).argmax() for i in range(arr.shape[1])]\n",
    "    inv_sbin = [np.bincount(arr[:, i]).argmin() for i in range(arr.shape[1])]\n",
    "    gamma = binlist2num(sbin)\n",
    "    epsilon = binlist2num(inv_sbin)\n",
    "    consumption = gamma * epsilon\n",
    "    return consumption\n",
    "\n",
    "def o2_gen_rating(datafile):\n",
    "    arr = load_data(datafile)\n",
    "    wordlen = arr.shape[1]\n",
    "    for i in range(0, wordlen):\n",
    "        col = arr[:, i]\n",
    "        counts = np.bincount(col)\n",
    "    \n",
    "        if len(counts) == 1:\n",
    "            com = col[0]\n",
    "        elif counts[0] == counts[1]:\n",
    "            com = 1\n",
    "        else:\n",
    "            com = counts.argmax()\n",
    "        \n",
    "        idx = np.argwhere(col == com)\n",
    "        arr = np.squeeze(arr[idx, :])\n",
    "        if len(arr.shape) <= 1:\n",
    "            break\n",
    "\n",
    "    return binlist2num(arr)\n",
    "\n",
    "def co2_scrubber_rating(datafile):\n",
    "    arr = load_data(datafile)\n",
    "    wordlen = arr.shape[1]\n",
    "    for i in range(0, wordlen):\n",
    "        col = arr[:, i]\n",
    "        counts = np.bincount(col)\n",
    "        if len(counts) == 1:\n",
    "            com = col[0]\n",
    "        elif counts[0] == counts[1]:\n",
    "            com = 0\n",
    "        else:\n",
    "            com = counts.argmin()\n",
    "        idx = np.argwhere(col == com)\n",
    "        arr = np.squeeze(arr[idx, :])\n",
    "        if len(arr.shape) <= 1:\n",
    "            break\n",
    "\n",
    "    return binlist2num(arr)\n",
    "\n",
    "def life_support_rating(datafile):\n",
    "    o2 = o2_gen_rating(datafile)\n",
    "    co2 = co2_scrubber_rating(datafile)\n",
    "\n",
    "    return o2 * co2"
   ]
  },
  {
   "cell_type": "code",
   "execution_count": 157,
   "metadata": {},
   "outputs": [
    {
     "data": {
      "text/plain": [
       "198"
      ]
     },
     "execution_count": 157,
     "metadata": {},
     "output_type": "execute_result"
    }
   ],
   "source": [
    "power_consumption(\"test.txt\")"
   ]
  },
  {
   "cell_type": "code",
   "execution_count": 158,
   "metadata": {},
   "outputs": [
    {
     "data": {
      "text/plain": [
       "1458194"
      ]
     },
     "execution_count": 158,
     "metadata": {},
     "output_type": "execute_result"
    }
   ],
   "source": [
    "power_consumption(\"input.txt\")"
   ]
  },
  {
   "cell_type": "code",
   "execution_count": 319,
   "metadata": {},
   "outputs": [
    {
     "data": {
      "text/plain": [
       "789"
      ]
     },
     "execution_count": 319,
     "metadata": {},
     "output_type": "execute_result"
    }
   ],
   "source": [
    "o2_gen_rating(\"input.txt\")"
   ]
  },
  {
   "cell_type": "code",
   "execution_count": 297,
   "metadata": {},
   "outputs": [
    {
     "data": {
      "text/plain": [
       "10"
      ]
     },
     "execution_count": 297,
     "metadata": {},
     "output_type": "execute_result"
    }
   ],
   "source": [
    "co2_scrubber_rating(\"test.txt\")"
   ]
  },
  {
   "cell_type": "code",
   "execution_count": 321,
   "metadata": {},
   "outputs": [
    {
     "data": {
      "text/plain": [
       "230"
      ]
     },
     "execution_count": 321,
     "metadata": {},
     "output_type": "execute_result"
    }
   ],
   "source": [
    "life_support_rating(\"test.txt\")"
   ]
  },
  {
   "cell_type": "code",
   "execution_count": 320,
   "metadata": {},
   "outputs": [
    {
     "data": {
      "text/plain": [
       "2829354"
      ]
     },
     "execution_count": 320,
     "metadata": {},
     "output_type": "execute_result"
    }
   ],
   "source": [
    "life_support_rating(\"input.txt\")"
   ]
  }
 ],
 "metadata": {
  "interpreter": {
   "hash": "ecc22ddafbb7680a410089353d25f05dc1cd64666e6afd042de696b9ecdc2135"
  },
  "kernelspec": {
   "display_name": "Python 3.9.7 64-bit ('py39': conda)",
   "language": "python",
   "name": "python3"
  },
  "language_info": {
   "codemirror_mode": {
    "name": "ipython",
    "version": 3
   },
   "file_extension": ".py",
   "mimetype": "text/x-python",
   "name": "python",
   "nbconvert_exporter": "python",
   "pygments_lexer": "ipython3",
   "version": "3.9.7"
  },
  "orig_nbformat": 4
 },
 "nbformat": 4,
 "nbformat_minor": 2
}
