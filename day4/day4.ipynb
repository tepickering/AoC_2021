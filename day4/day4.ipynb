{
 "cells": [
  {
   "cell_type": "code",
   "execution_count": 17,
   "metadata": {},
   "outputs": [],
   "source": [
    "from dataclasses import dataclass\n",
    "\n",
    "import numpy as np"
   ]
  },
  {
   "cell_type": "code",
   "execution_count": 121,
   "metadata": {},
   "outputs": [],
   "source": [
    "@dataclass\n",
    "class Board:\n",
    "    board: np.ndarray\n",
    "\n",
    "    @classmethod\n",
    "    def from_line(cls, line):\n",
    "        arr = []\n",
    "        rows = line.strip().split(\"\\n\")\n",
    "        for r in rows:\n",
    "            arr.append([int(i) for i in r.split()])\n",
    "        arr = np.squeeze(np.array(arr))\n",
    "        return cls(arr)\n",
    "\n",
    "    def __post_init__(self):\n",
    "        self.winner = False\n",
    "        self.saved = False\n",
    "        self.bingo = {\n",
    "            \"row\": np.zeros(self.board.shape[0]),\n",
    "            \"col\": np.zeros(self.board.shape[1])\n",
    "        }\n",
    "\n",
    "    def find(self, num):\n",
    "        if num in self.board:\n",
    "            loc = np.squeeze(np.argwhere(self.board == num))\n",
    "            return {\"row\": loc[1], \"col\": loc[0]}\n",
    "        else:\n",
    "            return None\n",
    "\n",
    "    def play(self, num):\n",
    "        if not self.winner:\n",
    "            loc = self.find(num)\n",
    "            if loc is not None:\n",
    "                self.bingo['row'][loc['row']] += 1\n",
    "                self.bingo['col'][loc['col']] += 1\n",
    "                self.board = np.ma.masked_equal(self.board, num)\n",
    "            if 5 in self.bingo['row'] or 5 in self.bingo['col']:\n",
    "                self.winner = True\n",
    "                self.answer = np.ma.sum(self.board) * num\n",
    "                "
   ]
  },
  {
   "cell_type": "code",
   "execution_count": 125,
   "metadata": {},
   "outputs": [],
   "source": [
    "def play_bingo(datafile):\n",
    "    with open(datafile, 'r') as fp:\n",
    "        data = fp.read().split(\"\\n\\n\")\n",
    "    draws = [int(i) for i in data[0].split(',')]\n",
    "\n",
    "    boards = []\n",
    "    for l in data[1:]:\n",
    "        boards.append(Board.from_line(l))\n",
    "    \n",
    "    winners = []\n",
    "    for draw in draws:\n",
    "        for board in boards:\n",
    "            board.play(draw)\n",
    "            if board.winner:\n",
    "                winners.append(board)\n",
    "\n",
    "    print(winners[0].answer)"
   ]
  },
  {
   "cell_type": "code",
   "execution_count": 126,
   "metadata": {},
   "outputs": [
    {
     "name": "stdout",
     "output_type": "stream",
     "text": [
      "31424\n"
     ]
    }
   ],
   "source": [
    "play_bingo(\"input.txt\")"
   ]
  },
  {
   "cell_type": "code",
   "execution_count": 127,
   "metadata": {},
   "outputs": [],
   "source": [
    "def let_the_squid_win(datafile):\n",
    "    with open(datafile, 'r') as fp:\n",
    "        data = fp.read().split(\"\\n\\n\")\n",
    "    draws = [int(i) for i in data[0].split(',')]\n",
    "\n",
    "    boards = []\n",
    "    for l in data[1:]:\n",
    "        boards.append(Board.from_line(l))\n",
    "    \n",
    "    winners = []\n",
    "    for draw in draws:\n",
    "        for board in boards:\n",
    "            board.play(draw)\n",
    "            if board.winner:\n",
    "                if not board.saved:\n",
    "                    winners.append(board)\n",
    "                    board.saved = True\n",
    "\n",
    "    print(winners[-1].answer)"
   ]
  },
  {
   "cell_type": "code",
   "execution_count": 128,
   "metadata": {},
   "outputs": [
    {
     "name": "stdout",
     "output_type": "stream",
     "text": [
      "23042\n"
     ]
    }
   ],
   "source": [
    "let_the_squid_win(\"input.txt\")"
   ]
  },
  {
   "cell_type": "code",
   "execution_count": null,
   "metadata": {},
   "outputs": [],
   "source": []
  }
 ],
 "metadata": {
  "interpreter": {
   "hash": "ecc22ddafbb7680a410089353d25f05dc1cd64666e6afd042de696b9ecdc2135"
  },
  "kernelspec": {
   "display_name": "Python 3.9.7 64-bit ('py39': conda)",
   "language": "python",
   "name": "python3"
  },
  "language_info": {
   "codemirror_mode": {
    "name": "ipython",
    "version": 3
   },
   "file_extension": ".py",
   "mimetype": "text/x-python",
   "name": "python",
   "nbconvert_exporter": "python",
   "pygments_lexer": "ipython3",
   "version": "3.9.7"
  },
  "orig_nbformat": 4
 },
 "nbformat": 4,
 "nbformat_minor": 2
}
