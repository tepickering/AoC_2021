{
 "cells": [
  {
   "cell_type": "code",
   "execution_count": 1,
   "metadata": {},
   "outputs": [],
   "source": [
    "import numpy as np"
   ]
  },
  {
   "cell_type": "code",
   "execution_count": 49,
   "metadata": {},
   "outputs": [],
   "source": [
    "def count_intersects(datafile):\n",
    "    with open(datafile) as fp:\n",
    "        kept = []\n",
    "        for l in fp.readlines():\n",
    "            left, right = l.split(' -> ')\n",
    "            left_coo = [int(i) for i in left.split(',')]\n",
    "            right_coo = [int(i) for i in right.strip().split(',')]\n",
    "            if left_coo[0] == right_coo[0] or left_coo[1] == right_coo[1]:\n",
    "                kept.append((left_coo, right_coo))\n",
    "    kept = np.array(kept)\n",
    "    im = np.zeros((kept.max()+1, kept.max()+1))\n",
    "    for k in kept:\n",
    "        x = (k[0][1], k[1][1])\n",
    "        lx = min(x)\n",
    "        ux = max(x)\n",
    "        if lx == ux:\n",
    "            sl_x = x\n",
    "        else:\n",
    "            sl_x = slice(lx, ux+1)\n",
    "        y = (k[0][0], k[1][0])\n",
    "        ly = min(y)\n",
    "        uy = max(y)\n",
    "        if ly == uy:\n",
    "            sl_y = y\n",
    "        else:\n",
    "            sl_y = slice(ly, uy+1)\n",
    "        im[sl_y, sl_x] += 1\n",
    "    \n",
    "    n_intersects = np.where(im > 1)[0].shape[0]\n",
    "    return n_intersects\n"
   ]
  },
  {
   "cell_type": "code",
   "execution_count": 51,
   "metadata": {},
   "outputs": [
    {
     "data": {
      "text/plain": [
       "5632"
      ]
     },
     "execution_count": 51,
     "metadata": {},
     "output_type": "execute_result"
    }
   ],
   "source": [
    "count_intersects(\"input.txt\")"
   ]
  },
  {
   "cell_type": "code",
   "execution_count": null,
   "metadata": {},
   "outputs": [],
   "source": []
  }
 ],
 "metadata": {
  "interpreter": {
   "hash": "ecc22ddafbb7680a410089353d25f05dc1cd64666e6afd042de696b9ecdc2135"
  },
  "kernelspec": {
   "display_name": "Python 3.9.7 64-bit ('py39': conda)",
   "language": "python",
   "name": "python3"
  },
  "language_info": {
   "codemirror_mode": {
    "name": "ipython",
    "version": 3
   },
   "file_extension": ".py",
   "mimetype": "text/x-python",
   "name": "python",
   "nbconvert_exporter": "python",
   "pygments_lexer": "ipython3",
   "version": "3.9.7"
  },
  "orig_nbformat": 4
 },
 "nbformat": 4,
 "nbformat_minor": 2
}
