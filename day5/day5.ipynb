{
 "cells": [
  {
   "cell_type": "code",
   "execution_count": 1,
   "metadata": {},
   "outputs": [],
   "source": [
    "import numpy as np"
   ]
  },
  {
   "cell_type": "code",
   "execution_count": 88,
   "metadata": {},
   "outputs": [],
   "source": [
    "def count_intersects(datafile):\n",
    "    with open(datafile) as fp:\n",
    "        kept = []\n",
    "        for l in fp.readlines():\n",
    "            left, right = l.split(' -> ')\n",
    "            left_coo = [int(i) for i in left.split(',')]\n",
    "            right_coo = [int(i) for i in right.strip().split(',')]\n",
    "            #if left_coo[0] == right_coo[0] or left_coo[1] == right_coo[1]:\n",
    "            kept.append((left_coo, right_coo))\n",
    "    kept = np.array(kept)\n",
    "    im = np.zeros((kept.max()+1, kept.max()+1))\n",
    "    for k in kept:\n",
    "        x = (k[0][1], k[1][1])\n",
    "        if x[0] > x[1]:\n",
    "            xrange = range(x[0], x[1]-1, -1)\n",
    "        else:\n",
    "            xrange = range(x[0], x[1]+1)\n",
    "        \n",
    "        y = (k[0][0], k[1][0])\n",
    "        if y[0] > y[1]:\n",
    "            yrange = range(y[0], y[1]-1, -1)\n",
    "        else:\n",
    "            yrange = range(y[0], y[1]+1)\n",
    "        \n",
    "        if len(xrange) == len(yrange):\n",
    "            for xx, yy in zip(xrange, yrange):\n",
    "                im[xx, yy] += 1\n",
    "        else:\n",
    "            for xx in xrange:\n",
    "                for yy in yrange:\n",
    "                    im[xx, yy] += 1\n",
    "    \n",
    "    print(im)\n",
    "    n_intersects = np.where(im > 1)[0].shape[0]\n",
    "    return n_intersects\n"
   ]
  },
  {
   "cell_type": "code",
   "execution_count": 90,
   "metadata": {},
   "outputs": [
    {
     "name": "stdout",
     "output_type": "stream",
     "text": [
      "[[0. 0. 0. ... 0. 0. 0.]\n",
      " [0. 0. 0. ... 0. 0. 0.]\n",
      " [0. 0. 0. ... 0. 0. 0.]\n",
      " ...\n",
      " [0. 0. 0. ... 1. 0. 0.]\n",
      " [0. 0. 0. ... 0. 1. 0.]\n",
      " [0. 0. 0. ... 0. 0. 1.]]\n"
     ]
    },
    {
     "data": {
      "text/plain": [
       "22213"
      ]
     },
     "execution_count": 90,
     "metadata": {},
     "output_type": "execute_result"
    }
   ],
   "source": [
    "count_intersects(\"input.txt\")"
   ]
  },
  {
   "cell_type": "code",
   "execution_count": null,
   "metadata": {},
   "outputs": [],
   "source": []
  }
 ],
 "metadata": {
  "interpreter": {
   "hash": "ecc22ddafbb7680a410089353d25f05dc1cd64666e6afd042de696b9ecdc2135"
  },
  "kernelspec": {
   "display_name": "Python 3.9.7 64-bit ('py39': conda)",
   "language": "python",
   "name": "python3"
  },
  "language_info": {
   "codemirror_mode": {
    "name": "ipython",
    "version": 3
   },
   "file_extension": ".py",
   "mimetype": "text/x-python",
   "name": "python",
   "nbconvert_exporter": "python",
   "pygments_lexer": "ipython3",
   "version": "3.9.7"
  },
  "orig_nbformat": 4
 },
 "nbformat": 4,
 "nbformat_minor": 2
}
