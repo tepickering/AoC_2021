{
 "cells": [
  {
   "cell_type": "code",
   "execution_count": 1,
   "metadata": {},
   "outputs": [],
   "source": [
    "from dataclasses import dataclass\n",
    "\n",
    "import numpy as np"
   ]
  },
  {
   "cell_type": "code",
   "execution_count": 10,
   "metadata": {},
   "outputs": [],
   "source": [
    "@dataclass\n",
    "class LanternFish:\n",
    "    timer: int\n",
    "\n",
    "    def __post_init__(self):\n",
    "        if self.timer == 8:\n",
    "            self.newbie = True\n",
    "        else: \n",
    "            self.newbie = False\n",
    "\n",
    "    def ticker(self):\n",
    "        if self.newbie:\n",
    "            self.newbie = False\n",
    "            return False\n",
    "\n",
    "        if self.timer == 0:\n",
    "            self.timer = 6\n",
    "            return True\n",
    "\n",
    "        self.timer = self.timer - 1\n",
    "        return False\n",
    "\n",
    "def load_init(datafile):\n",
    "    with open(datafile, 'r') as fp:\n",
    "        lines = fp.readlines()\n",
    "    init = [int(i) for i in lines[0].strip().split(',')]\n",
    "    return init"
   ]
  },
  {
   "cell_type": "code",
   "execution_count": 17,
   "metadata": {},
   "outputs": [],
   "source": [
    "def run_model(datafile, niter):\n",
    "    init = load_init(datafile)\n",
    "\n",
    "    school = [LanternFish(i) for i in init]\n",
    "    \n",
    "    for i in range(niter):\n",
    "        for fish in school:\n",
    "            state = fish.ticker()\n",
    "            if state:\n",
    "                school.append(LanternFish(8))\n",
    "    \n",
    "    return len(school)"
   ]
  },
  {
   "cell_type": "code",
   "execution_count": 20,
   "metadata": {},
   "outputs": [
    {
     "data": {
      "text/plain": [
       "393019"
      ]
     },
     "execution_count": 20,
     "metadata": {},
     "output_type": "execute_result"
    }
   ],
   "source": [
    "run_model(\"input.txt\", 80)"
   ]
  },
  {
   "cell_type": "code",
   "execution_count": null,
   "metadata": {},
   "outputs": [],
   "source": []
  }
 ],
 "metadata": {
  "interpreter": {
   "hash": "ecc22ddafbb7680a410089353d25f05dc1cd64666e6afd042de696b9ecdc2135"
  },
  "kernelspec": {
   "display_name": "Python 3.9.7 64-bit ('py39': conda)",
   "language": "python",
   "name": "python3"
  },
  "language_info": {
   "codemirror_mode": {
    "name": "ipython",
    "version": 3
   },
   "file_extension": ".py",
   "mimetype": "text/x-python",
   "name": "python",
   "nbconvert_exporter": "python",
   "pygments_lexer": "ipython3",
   "version": "3.9.7"
  },
  "orig_nbformat": 4
 },
 "nbformat": 4,
 "nbformat_minor": 2
}
