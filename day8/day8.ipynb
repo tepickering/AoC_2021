{
 "cells": [
  {
   "cell_type": "code",
   "execution_count": 100,
   "metadata": {},
   "outputs": [],
   "source": [
    "import numpy as np\n",
    "from collections import Counter"
   ]
  },
  {
   "cell_type": "code",
   "execution_count": 94,
   "metadata": {},
   "outputs": [],
   "source": [
    "def load_data(datafile):\n",
    "    inputs = []\n",
    "    outputs = []\n",
    "    with open(datafile, 'r') as fp:\n",
    "        for line in fp.readlines():\n",
    "            input, output = line.strip().split(' | ')\n",
    "            inputs.append(input.split())\n",
    "            outputs.append(output.split())\n",
    "    return inputs, outputs"
   ]
  },
  {
   "cell_type": "code",
   "execution_count": 98,
   "metadata": {},
   "outputs": [
    {
     "data": {
      "text/plain": [
       "[['acedgfb',\n",
       "  'cdfbe',\n",
       "  'gcdfa',\n",
       "  'fbcad',\n",
       "  'dab',\n",
       "  'cefabd',\n",
       "  'cdfgeb',\n",
       "  'eafb',\n",
       "  'cagedb',\n",
       "  'ab']]"
      ]
     },
     "execution_count": 98,
     "metadata": {},
     "output_type": "execute_result"
    }
   ],
   "source": [
    "reference = ['abcefg', 'cf', 'acdeg', 'acdfg', 'bcdf', 'abdfg', 'abdefg', 'acf', 'abcdefg', 'abcdfg']\n",
    "input, output = load_data(\"test.txt\")\n",
    "input"
   ]
  },
  {
   "cell_type": "code",
   "execution_count": 82,
   "metadata": {},
   "outputs": [],
   "source": [
    "# ones are len 2, sevens are len 3, fours are ln 4, and eights are len 7\n",
    "lens = [2, 3, 4, 7]"
   ]
  },
  {
   "cell_type": "code",
   "execution_count": 83,
   "metadata": {},
   "outputs": [
    {
     "data": {
      "text/plain": [
       "0"
      ]
     },
     "execution_count": 83,
     "metadata": {},
     "output_type": "execute_result"
    }
   ],
   "source": [
    "sum = 0\n",
    "for l in lens:\n",
    "    for o in output:\n",
    "        for w in o:\n",
    "            if len(w) == l:\n",
    "                sum = sum + 1\n",
    "sum"
   ]
  },
  {
   "cell_type": "code",
   "execution_count": 84,
   "metadata": {},
   "outputs": [
    {
     "data": {
      "text/plain": [
       "(Counter({'a': 8, 'b': 6, 'c': 8, 'e': 4, 'f': 9, 'g': 7, 'd': 7}),\n",
       " 'f',\n",
       " 'e',\n",
       " 'b')"
      ]
     },
     "execution_count": 84,
     "metadata": {},
     "output_type": "execute_result"
    }
   ],
   "source": [
    "ref_cnt = Counter()\n",
    "for c in ''.join(reference):\n",
    "    ref_cnt[c] += 1\n",
    "ref_most_common = ref_cnt.most_common(1)[0][0]\n",
    "ref_least_common = ref_cnt.most_common()[-1][0]\n",
    "ref_next_least_common = ref_cnt.most_common()[-2][0]\n",
    "ref_cnt, ref_most_common, ref_least_common, ref_next_least_common"
   ]
  },
  {
   "cell_type": "code",
   "execution_count": 113,
   "metadata": {},
   "outputs": [],
   "source": [
    "def make_mapping(data):\n",
    "    data = sorted(data, key=len)\n",
    "    mapping = {}\n",
    "    cnt = Counter()\n",
    "    for c in ''.join(data):\n",
    "        cnt[c] += 1\n",
    "    most_common = cnt.most_common(1)[0][0]\n",
    "    least_common = cnt.most_common()[-1][0]\n",
    "    next_least_common = cnt.most_common()[-2][0]\n",
    "    # can map e (least common) and f (most common) based on counts. b is next least common. \n",
    "    mapping[most_common] = ref_most_common\n",
    "    mapping[least_common] = ref_least_common\n",
    "    mapping[next_least_common] = ref_next_least_common\n",
    "\n",
    "    found = [most_common, least_common, next_least_common]\n",
    "\n",
    "    # we've sorted the data so the first one is 1 which maps to cf. \n",
    "    # we already know f is the most common so the other one is c.\n",
    "    for chr in data[0]:\n",
    "        if chr != most_common:\n",
    "            mapping[chr] = 'c'\n",
    "            found.append(chr)\n",
    "\n",
    "    # the next longest is 7 which maps to acf. cf are already matched\n",
    "    # so the remaining is a. \n",
    "    for chr in data[1]:\n",
    "        if chr not in found:\n",
    "            mapping[chr] = 'a'\n",
    "            found.append(chr)\n",
    "\n",
    "    # the next longest is 4 which maps to bcdf. we know b, c, and f so the remainder is d.\n",
    "    for chr in data[2]:\n",
    "        if chr not in found:\n",
    "            mapping[chr] = 'd'\n",
    "            found.append(chr)\n",
    "\n",
    "    # at this point we know a, b, c, d, e, and f. can use the longest word, 8, to get g.\n",
    "    for chr in data[-1]:\n",
    "        if chr not in found:\n",
    "            mapping[chr] = 'g'\n",
    "    return mapping\n",
    "\n",
    "def parse_num(word, mapping):\n",
    "    output = []\n",
    "    for c in word:\n",
    "        output.append(mapping[c])\n",
    "    parsed = ''.join(sorted(output))\n",
    "    return reference.index(parsed)\n",
    "\n",
    "def process(datafile):\n",
    "    inputs, outputs = load_data(datafile)\n",
    "    numbers = []\n",
    "    for input, output in zip(inputs, outputs):\n",
    "        mapping = make_mapping(input)\n",
    "        numerals = []\n",
    "        for w in output:\n",
    "            numerals.append(f\"{parse_num(w, mapping)}\")\n",
    "        number = int(''.join(numerals))\n",
    "        numbers.append(number)\n",
    "    return numbers"
   ]
  },
  {
   "cell_type": "code",
   "execution_count": 109,
   "metadata": {},
   "outputs": [
    {
     "data": {
      "text/plain": [
       "5"
      ]
     },
     "execution_count": 109,
     "metadata": {},
     "output_type": "execute_result"
    }
   ],
   "source": [
    "mapping = make_mapping(input[0])\n",
    "parse_num('cdfeb', mapping)"
   ]
  },
  {
   "cell_type": "code",
   "execution_count": 118,
   "metadata": {},
   "outputs": [
    {
     "data": {
      "text/plain": [
       "1011785"
      ]
     },
     "execution_count": 118,
     "metadata": {},
     "output_type": "execute_result"
    }
   ],
   "source": [
    "arr = process(\"input.txt\")\n",
    "np.sum(arr)"
   ]
  },
  {
   "cell_type": "code",
   "execution_count": null,
   "metadata": {},
   "outputs": [],
   "source": []
  }
 ],
 "metadata": {
  "interpreter": {
   "hash": "ecc22ddafbb7680a410089353d25f05dc1cd64666e6afd042de696b9ecdc2135"
  },
  "kernelspec": {
   "display_name": "Python 3.9.7 64-bit ('py39': conda)",
   "language": "python",
   "name": "python3"
  },
  "language_info": {
   "codemirror_mode": {
    "name": "ipython",
    "version": 3
   },
   "file_extension": ".py",
   "mimetype": "text/x-python",
   "name": "python",
   "nbconvert_exporter": "python",
   "pygments_lexer": "ipython3",
   "version": "3.9.7"
  },
  "orig_nbformat": 4
 },
 "nbformat": 4,
 "nbformat_minor": 2
}
