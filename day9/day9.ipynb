{
 "cells": [
  {
   "cell_type": "code",
   "execution_count": 94,
   "metadata": {},
   "outputs": [],
   "source": [
    "import numpy as np\n",
    "from skimage.morphology import local_minima\n",
    "import skimage\n",
    "\n",
    "import matplotlib.pyplot as plt\n",
    "import ipympl\n",
    "\n",
    "%matplotlib widget"
   ]
  },
  {
   "cell_type": "code",
   "execution_count": 10,
   "metadata": {},
   "outputs": [],
   "source": [
    "def load_data(datafile):\n",
    "    rows = []\n",
    "    with open(datafile, 'r') as fp:\n",
    "        for row in fp.readlines():\n",
    "            rows.append([int(i) for i in row.strip()])\n",
    "    return np.array(rows)"
   ]
  },
  {
   "cell_type": "code",
   "execution_count": 55,
   "metadata": {},
   "outputs": [],
   "source": [
    "testdata = load_data(\"test.txt\")"
   ]
  },
  {
   "cell_type": "code",
   "execution_count": 56,
   "metadata": {},
   "outputs": [
    {
     "data": {
      "text/plain": [
       "array([[False,  True, False, False, False, False, False, False, False,\n",
       "         True],\n",
       "       [False, False, False, False, False, False, False, False, False,\n",
       "        False],\n",
       "       [False, False,  True, False, False, False, False, False, False,\n",
       "        False],\n",
       "       [False, False, False, False, False, False, False, False, False,\n",
       "        False],\n",
       "       [False, False, False, False, False, False,  True, False, False,\n",
       "        False]])"
      ]
     },
     "execution_count": 56,
     "metadata": {},
     "output_type": "execute_result"
    }
   ],
   "source": [
    "local_minima(testdata)"
   ]
  },
  {
   "cell_type": "code",
   "execution_count": 57,
   "metadata": {},
   "outputs": [],
   "source": [
    "mask = local_minima(testdata, connectivity=1, allow_borders=True)"
   ]
  },
  {
   "cell_type": "code",
   "execution_count": 41,
   "metadata": {},
   "outputs": [
    {
     "data": {
      "text/plain": [
       "548"
      ]
     },
     "execution_count": 41,
     "metadata": {},
     "output_type": "execute_result"
    }
   ],
   "source": [
    "np.sum(testdata[mask] + 1)"
   ]
  },
  {
   "cell_type": "code",
   "execution_count": 70,
   "metadata": {},
   "outputs": [
    {
     "data": {
      "text/plain": [
       "masked_array(\n",
       "  data=[[--, 1, --, --, --, --, --, --, --, 9],\n",
       "        [--, --, --, --, --, --, --, --, --, --],\n",
       "        [--, --, 22, --, --, --, --, --, --, --],\n",
       "        [--, --, --, --, --, --, --, --, --, --],\n",
       "        [--, --, --, --, --, --, 46, --, --, --]],\n",
       "  mask=[[ True, False,  True,  True,  True,  True,  True,  True,  True,\n",
       "         False],\n",
       "        [ True,  True,  True,  True,  True,  True,  True,  True,  True,\n",
       "          True],\n",
       "        [ True,  True, False,  True,  True,  True,  True,  True,  True,\n",
       "          True],\n",
       "        [ True,  True,  True,  True,  True,  True,  True,  True,  True,\n",
       "          True],\n",
       "        [ True,  True,  True,  True,  True,  True, False,  True,  True,\n",
       "          True]],\n",
       "  fill_value=999999)"
      ]
     },
     "execution_count": 70,
     "metadata": {},
     "output_type": "execute_result"
    }
   ],
   "source": [
    "labels = np.arange(testdata.shape[0] * testdata.shape[1]).reshape(testdata.shape)\n",
    "masked_labels = np.ma.masked_where(mask == False, labels)\n",
    "masked_labels"
   ]
  },
  {
   "cell_type": "code",
   "execution_count": 44,
   "metadata": {},
   "outputs": [
    {
     "data": {
      "text/plain": [
       "array([[2, 1, 9, 9, 9, 4, 3, 2, 1, 0],\n",
       "       [3, 9, 8, 7, 8, 9, 4, 9, 2, 1],\n",
       "       [9, 8, 5, 6, 7, 8, 9, 8, 9, 2],\n",
       "       [8, 7, 6, 7, 8, 9, 6, 7, 8, 9],\n",
       "       [9, 8, 9, 9, 9, 6, 5, 6, 7, 8]])"
      ]
     },
     "execution_count": 44,
     "metadata": {},
     "output_type": "execute_result"
    }
   ],
   "source": [
    "testdata"
   ]
  },
  {
   "cell_type": "code",
   "execution_count": 45,
   "metadata": {},
   "outputs": [
    {
     "data": {
      "text/plain": [
       "masked_array(\n",
       "  data=[[2, 1, --, --, --, 4, 3, 2, 1, 0],\n",
       "        [3, --, 8, 7, 8, --, 4, --, 2, 1],\n",
       "        [--, 8, 5, 6, 7, 8, --, 8, --, 2],\n",
       "        [8, 7, 6, 7, 8, --, 6, 7, 8, --],\n",
       "        [--, 8, --, --, --, 6, 5, 6, 7, 8]],\n",
       "  mask=[[False, False,  True,  True,  True, False, False, False, False,\n",
       "         False],\n",
       "        [False,  True, False, False, False,  True, False,  True, False,\n",
       "         False],\n",
       "        [ True, False, False, False, False, False,  True, False,  True,\n",
       "         False],\n",
       "        [False, False, False, False, False,  True, False, False, False,\n",
       "          True],\n",
       "        [ True, False,  True,  True,  True, False, False, False, False,\n",
       "         False]],\n",
       "  fill_value=999999)"
      ]
     },
     "execution_count": 45,
     "metadata": {},
     "output_type": "execute_result"
    }
   ],
   "source": [
    "maskdata = np.ma.masked_where(testdata == 9, testdata)\n",
    "maskdata"
   ]
  },
  {
   "cell_type": "code",
   "execution_count": 74,
   "metadata": {},
   "outputs": [
    {
     "data": {
      "text/plain": [
       "masked_array(\n",
       "  data=[[1, 1, --, --, --, 2, 2, 2, 2, 2],\n",
       "        [1, --, 3, 3, 3, --, 2, --, 2, 2],\n",
       "        [--, 3, 3, 3, 3, 3, --, 4, --, 2],\n",
       "        [3, 3, 3, 3, 3, --, 4, 4, 4, --],\n",
       "        [--, 3, --, --, --, 4, 4, 4, 4, 4]],\n",
       "  mask=[[False, False,  True,  True,  True, False, False, False, False,\n",
       "         False],\n",
       "        [False,  True, False, False, False,  True, False,  True, False,\n",
       "         False],\n",
       "        [ True, False, False, False, False, False,  True, False,  True,\n",
       "         False],\n",
       "        [False, False, False, False, False,  True, False, False, False,\n",
       "          True],\n",
       "        [ True, False,  True,  True,  True, False, False, False, False,\n",
       "         False]],\n",
       "  fill_value=999999,\n",
       "  dtype=int32)"
      ]
     },
     "execution_count": 74,
     "metadata": {},
     "output_type": "execute_result"
    }
   ],
   "source": [
    "segim = skimage.segmentation.watershed(testdata)\n",
    "masked_seg = np.ma.masked_where(testdata == 9, segim)\n",
    "masked_seg"
   ]
  },
  {
   "cell_type": "code",
   "execution_count": 157,
   "metadata": {},
   "outputs": [],
   "source": [
    "def segment(datafile):\n",
    "    data = load_data(datafile)\n",
    "    # use watershed segmentaition to fill in basins around local minima\n",
    "    segim = skimage.segmentation.watershed(data)\n",
    "    # mask where data == 9\n",
    "    masked = np.ma.masked_where(data == 9, segim)\n",
    "    nseg = np.nanmax(masked)\n",
    "    sizes = []\n",
    "    # find and sort sizes of segmented regions\n",
    "    for i in range(1, nseg+1):\n",
    "        regsize = np.nansum(np.ma.masked_where(masked != i, masked))/i\n",
    "        sizes.append(regsize)\n",
    "    sizes = sorted(sizes)\n",
    "    #return sizes\n",
    "    return np.prod([sizes[-1], sizes[-2], sizes[-3]])"
   ]
  },
  {
   "cell_type": "code",
   "execution_count": 160,
   "metadata": {},
   "outputs": [
    {
     "data": {
      "text/plain": [
       "786048.0"
      ]
     },
     "execution_count": 160,
     "metadata": {},
     "output_type": "execute_result"
    }
   ],
   "source": [
    "segment(\"input.txt\")"
   ]
  },
  {
   "cell_type": "code",
   "execution_count": 111,
   "metadata": {},
   "outputs": [
    {
     "data": {
      "application/vnd.jupyter.widget-view+json": {
       "model_id": "0d92683c648d47c1a156c619ce5741ed",
       "version_major": 2,
       "version_minor": 0
      },
      "text/html": [
       "\n",
       "            <div style=\"display: inline-block;\">\n",
       "                <div class=\"jupyter-widgets widget-label\" style=\"text-align: center;\">\n",
       "                    Figure\n",
       "                </div>\n",
       "                <img src='data:image/png;base64,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' width=1000.0/>\n",
       "            </div>\n",
       "        "
      ],
      "text/plain": [
       "Canvas(toolbar=Toolbar(toolitems=[('Home', 'Reset original view', 'home', 'home'), ('Back', 'Back to previous …"
      ]
     },
     "metadata": {},
     "output_type": "display_data"
    }
   ],
   "source": [
    "full_data = load_data(\"input.txt\")\n",
    "segim = skimage.segmentation.watershed(full_data)\n",
    "\n",
    "fig, (ax1, ax2) = plt.subplots(1, 2, figsize=(10, 5))\n",
    "ax1.imshow(full_data)\n",
    "ax1.set_title(\"Data\")\n",
    "ax2.imshow(segim)\n",
    "ax2.set_title(\"Segmentation\")\n",
    "plt.show()"
   ]
  },
  {
   "cell_type": "code",
   "execution_count": 112,
   "metadata": {},
   "outputs": [
    {
     "data": {
      "text/plain": [
       "235"
      ]
     },
     "execution_count": 112,
     "metadata": {},
     "output_type": "execute_result"
    }
   ],
   "source": [
    "segim.max()"
   ]
  },
  {
   "cell_type": "code",
   "execution_count": null,
   "metadata": {},
   "outputs": [],
   "source": []
  }
 ],
 "metadata": {
  "interpreter": {
   "hash": "ecc22ddafbb7680a410089353d25f05dc1cd64666e6afd042de696b9ecdc2135"
  },
  "kernelspec": {
   "display_name": "Python 3.9.7 64-bit ('py39': conda)",
   "language": "python",
   "name": "python3"
  },
  "language_info": {
   "codemirror_mode": {
    "name": "ipython",
    "version": 3
   },
   "file_extension": ".py",
   "mimetype": "text/x-python",
   "name": "python",
   "nbconvert_exporter": "python",
   "pygments_lexer": "ipython3",
   "version": "3.9.7"
  },
  "orig_nbformat": 4
 },
 "nbformat": 4,
 "nbformat_minor": 2
}
